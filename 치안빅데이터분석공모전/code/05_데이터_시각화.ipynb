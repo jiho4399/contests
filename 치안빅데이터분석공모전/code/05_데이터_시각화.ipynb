{
  "nbformat": 4,
  "nbformat_minor": 0,
  "metadata": {
    "colab": {
      "provenance": [],
      "toc_visible": true,
      "include_colab_link": true
    },
    "kernelspec": {
      "name": "python3",
      "display_name": "Python 3"
    },
    "language_info": {
      "name": "python"
    }
  },
  "cells": [
    {
      "cell_type": "markdown",
      "metadata": {
        "id": "view-in-github",
        "colab_type": "text"
      },
      "source": [
        "<a href=\"https://colab.research.google.com/github/jiho4399/contests/blob/master/%EC%B9%98%EC%95%88%EB%B9%85%EB%8D%B0%EC%9D%B4%ED%84%B0%EB%B6%84%EC%84%9D%EA%B3%B5%EB%AA%A8%EC%A0%84/code/05_%EB%8D%B0%EC%9D%B4%ED%84%B0_%EC%8B%9C%EA%B0%81%ED%99%94.ipynb\" target=\"_parent\"><img src=\"https://colab.research.google.com/assets/colab-badge.svg\" alt=\"Open In Colab\"/></a>"
      ]
    },
    {
      "cell_type": "code",
      "source": [
        "!sudo apt-get install -y fonts-nanum\n",
        "!sudo fc-cache -fv\n",
        "!rm ~/.cache/matplotlib -rf\n",
        "# 런타임 재시작 해야함!!!!!"
      ],
      "metadata": {
        "id": "dWab7l1_1JtB"
      },
      "execution_count": null,
      "outputs": []
    },
    {
      "cell_type": "code",
      "source": [
        "from google.colab import drive\n",
        "drive.mount('/content/drive')\n",
        "path = '/content/drive/MyDrive/contest/AF_contest/data/'"
      ],
      "metadata": {
        "colab": {
          "base_uri": "https://localhost:8080/"
        },
        "id": "jKw3iNtKocyz",
        "outputId": "8d52f007-6808-45a1-d4ca-246a9b50eda3"
      },
      "execution_count": null,
      "outputs": [
        {
          "output_type": "stream",
          "name": "stdout",
          "text": [
            "Mounted at /content/drive\n"
          ]
        }
      ]
    },
    {
      "cell_type": "code",
      "source": [
        "import warnings\n",
        "warnings.filterwarnings('ignore')\n",
        "\n",
        "import pandas as pd\n",
        "import numpy as np\n",
        "import matplotlib.pyplot as plt\n",
        "\n",
        "# !pip install geopandas\n",
        "# import geopandas as gpd\n",
        "# from pyproj.crs import CRS\n",
        "# from shapely.geometry import Polygon\n",
        "\n",
        "# from datetime import datetime\n",
        "# !pip install pytimekr\n",
        "# from pytimekr import pytimekr\n",
        "\n",
        "import requests\n",
        "from urllib.parse import urlparse"
      ],
      "metadata": {
        "id": "9qTJ3S47Z3Fb"
      },
      "execution_count": null,
      "outputs": []
    },
    {
      "cell_type": "code",
      "source": [
        "import matplotlib.pyplot as plt\n",
        "from matplotlib import rc\n",
        "import seaborn as sns\n",
        "%matplotlib inline\n",
        "\n",
        "plt.rc('font', family='NanumBarunGothic')\n",
        "# plt.rc('font', family='AppleGothic')\n",
        "\n",
        "plt.rcParams['axes.unicode_minus'] = False\n",
        "\n",
        "sns.set(font=\"NanumBarunGothic\", \n",
        "        rc={\"axes.unicode_minus\":False},\n",
        "        style='darkgrid')"
      ],
      "metadata": {
        "id": "_zE-4nOXr285"
      },
      "execution_count": null,
      "outputs": []
    },
    {
      "cell_type": "markdown",
      "source": [
        "# 데이터 추가 전처리"
      ],
      "metadata": {
        "id": "xi5K-BceE7_I"
      }
    },
    {
      "cell_type": "code",
      "source": [
        "data['RPTER_SEX'].unique()"
      ],
      "metadata": {
        "colab": {
          "base_uri": "https://localhost:8080/"
        },
        "id": "4hQ93VCyDmsW",
        "outputId": "a85151b6-c997-46b8-a638-7ca4c4ca5211"
      },
      "execution_count": null,
      "outputs": [
        {
          "output_type": "execute_result",
          "data": {
            "text/plain": [
              "array(['1', '3', '2', '{', ' ', 2.0, 1.0, 3.0], dtype=object)"
            ]
          },
          "metadata": {},
          "execution_count": 5
        }
      ]
    },
    {
      "cell_type": "code",
      "source": [
        "data.loc[data['RPTER_SEX'] == 1, 'RPTER_SEX'] = 1\n",
        "data.loc[data['RPTER_SEX'] == 2, 'RPTER_SEX'] = 2\n",
        "data.loc[data['RPTER_SEX'] == 3, 'RPTER_SEX'] = 3\n",
        "data.loc[data['RPTER_SEX'] == '1', 'RPTER_SEX'] = 1\n",
        "data.loc[data['RPTER_SEX'] == '2', 'RPTER_SEX'] = 2\n",
        "data.loc[data['RPTER_SEX'] == '3', 'RPTER_SEX'] = 3\n",
        "data.loc[data['RPTER_SEX'] == '{', 'RPTER_SEX'] = 3\n",
        "data.loc[data['RPTER_SEX'] == ' ', 'RPTER_SEX'] = 3"
      ],
      "metadata": {
        "id": "xNHVUm0aCUsk"
      },
      "execution_count": null,
      "outputs": []
    },
    {
      "cell_type": "code",
      "source": [
        "data['RPTER_SEX'].unique()"
      ],
      "metadata": {
        "colab": {
          "base_uri": "https://localhost:8080/"
        },
        "id": "VeJFaCc-D1_e",
        "outputId": "3d3ffb85-be24-4111-a5ed-07662147dfd3"
      },
      "execution_count": null,
      "outputs": [
        {
          "output_type": "execute_result",
          "data": {
            "text/plain": [
              "array([1, 3, 2])"
            ]
          },
          "metadata": {},
          "execution_count": 10
        }
      ]
    },
    {
      "cell_type": "code",
      "source": [
        "data['SME_EVT_YN'].unique()"
      ],
      "metadata": {
        "colab": {
          "base_uri": "https://localhost:8080/"
        },
        "id": "DMUTFCxCN8aG",
        "outputId": "50c7ce69-9163-4ee7-b5a7-f85fd4d40f24"
      },
      "execution_count": null,
      "outputs": [
        {
          "output_type": "execute_result",
          "data": {
            "text/plain": [
              "array(['Y', nan, 'C', 'N', ' '], dtype=object)"
            ]
          },
          "metadata": {},
          "execution_count": 16
        }
      ]
    },
    {
      "cell_type": "code",
      "source": [
        "data.loc[data['SME_EVT_YN'] == 'C', 'SME_EVT_YN'] = 'Y'\n",
        "data.loc[data['SME_EVT_YN'] == ' ', 'SME_EVT_YN'] = 'N'\n",
        "data.loc[data['SME_EVT_YN'].isna(), 'SME_EVT_YN'] = 'N'"
      ],
      "metadata": {
        "id": "VOHsTKbDN5eW"
      },
      "execution_count": null,
      "outputs": []
    },
    {
      "cell_type": "code",
      "source": [
        "data['SME_EVT_YN'].unique()"
      ],
      "metadata": {
        "colab": {
          "base_uri": "https://localhost:8080/"
        },
        "id": "xDIETinaOKpZ",
        "outputId": "d0362c26-c4df-4cdd-966c-e0810b0a63bf"
      },
      "execution_count": null,
      "outputs": [
        {
          "output_type": "execute_result",
          "data": {
            "text/plain": [
              "array(['Y', 'N'], dtype=object)"
            ]
          },
          "metadata": {},
          "execution_count": 20
        }
      ]
    },
    {
      "cell_type": "code",
      "source": [
        "data = data[(data['HPPN_Y'] <= 37.064875) & (data['HPPN_Y'] >= 35.980667) & (data['HPPN_X'] <= 127.639522) & (data['HPPN_X'] >= 125.955514)]"
      ],
      "metadata": {
        "id": "eXMd7QdncWRr"
      },
      "execution_count": null,
      "outputs": []
    },
    {
      "cell_type": "code",
      "source": [
        "data.to_csv(path + 'data_1/xy_d1_add1.csv', index = False)"
      ],
      "metadata": {
        "id": "aScyUJuFtLrS"
      },
      "execution_count": null,
      "outputs": []
    },
    {
      "cell_type": "markdown",
      "source": [
        "# 시각화"
      ],
      "metadata": {
        "id": "iaIR6Pb7E6Be"
      }
    },
    {
      "cell_type": "code",
      "source": [
        "data = pd.read_csv(path + 'data_1/xy_d1_add1.csv')\n",
        "data"
      ],
      "metadata": {
        "colab": {
          "base_uri": "https://localhost:8080/",
          "height": 818
        },
        "id": "TYknfeU6dvx8",
        "outputId": "3c84e475-e85a-4a1a-d9ae-6a37bc439fb4"
      },
      "execution_count": null,
      "outputs": [
        {
          "output_type": "execute_result",
          "data": {
            "text/plain": [
              "        NPA_CL  EVT_STAT_CD  EVT_CL_CD  RPTER_SEX  \\\n",
              "0           19           10        406          1   \n",
              "1           19           10        403          1   \n",
              "2           19           10        406          1   \n",
              "3           19           10        402          1   \n",
              "4           13           10        401          1   \n",
              "...        ...          ...        ...        ...   \n",
              "403510      19           10        406          1   \n",
              "403511      13           10        406          1   \n",
              "403512      19           10        401          1   \n",
              "403513      13           10        406          2   \n",
              "403514      19           10        406          1   \n",
              "\n",
              "                        HPPN_PNU_ADDR      HPPN_X     HPPN_Y SME_EVT_YN  YEAR  \\\n",
              "0          충청남도 공주시 정안면 어물리(정안면) 33-2  127.148714  36.605751          Y    20   \n",
              "1           충청남도 논산시 채운면 장화리(채운면) 533  127.030921  36.164643          N    20   \n",
              "2          세종특별자치시 세종시 소담동(소담동) 32-92  127.305511  36.479819          Y    20   \n",
              "3         충청남도 천안시 서북구 불당동(불당동) 204-4  127.109667  36.815468          N    20   \n",
              "4       대전광역시 유성구 봉명동(행정:온천1동) 541-26  127.348625  36.353829          N    20   \n",
              "...                               ...         ...        ...        ...   ...   \n",
              "403510          충남 천안시 동남구 신부동 320-39  127.152785  36.822255          N    23   \n",
              "403511  대전광역시 중구 문화동 (행정:문화1동 ) 1-266  127.414486  36.321280          Y    23   \n",
              "403512   충청남도 당진시 신평면 상오리(신평면 ) 910-6  126.741950  36.868136          Y    23   \n",
              "403513      대전광역시 서구 월평동 (월평1동 ) 1526  127.357785  36.355010          N    23   \n",
              "403514       충청남도 아산시 모종동 (온양3동 ) 661  127.019848  36.778266          N    23   \n",
              "\n",
              "        MONTH  ...  MINUTE  SECOND               CLEAN_ADDR  HOUR_CAT  SEASON  \\\n",
              "0           1  ...       3      11   충청남도 공주시 정안면 어물리  33-2      DAWN  WINTER   \n",
              "1           1  ...      18       8    충청남도 논산시 채운면 장화리  533      DAWN  WINTER   \n",
              "2           1  ...      20       1   세종특별자치시 세종시 소담동  32-92      DAWN  WINTER   \n",
              "3           1  ...      20       4  충청남도 천안시 서북구 불당동  204-4      DAWN  WINTER   \n",
              "4           1  ...      21      35    대전광역시 유성구 봉명동  541-26      DAWN  WINTER   \n",
              "...       ...  ...     ...     ...                      ...       ...     ...   \n",
              "403510      1  ...      14      52    충남 천안시 동남구 신부동 320-39      NIGH  WINTER   \n",
              "403511      1  ...      21      42     대전광역시 중구 문화동   1-266      NIGH  WINTER   \n",
              "403512      1  ...      32      32  충청남도 당진시 신평면 상오리  910-6      NIGH  WINTER   \n",
              "403513      1  ...      35      52      대전광역시 서구 월평동   1526      NIGH  WINTER   \n",
              "403514      1  ...      59      40       충청남도 아산시 모종동   661      NIGH  WINTER   \n",
              "\n",
              "              DATE HOLIDAY SEOLLAL  CHUSEOK  WEEK_DAY  \n",
              "0       2020-01-01       1       0        0       WED  \n",
              "1       2020-01-01       1       0        0       WED  \n",
              "2       2020-01-01       1       0        0       WED  \n",
              "3       2020-01-01       1       0        0       WED  \n",
              "4       2020-01-01       1       0        0       WED  \n",
              "...            ...     ...     ...      ...       ...  \n",
              "403510  2023-11-08       0       0        0       WED  \n",
              "403511  2023-11-08       0       0        0       WED  \n",
              "403512  2023-11-08       0       0        0       WED  \n",
              "403513  2023-11-08       0       0        0       WED  \n",
              "403514  2023-11-08       0       0        0       WED  \n",
              "\n",
              "[403515 rows x 22 columns]"
            ],
            "text/html": [
              "\n",
              "  <div id=\"df-69f003ed-de00-49f3-8977-371405ed3816\">\n",
              "    <div class=\"colab-df-container\">\n",
              "      <div>\n",
              "<style scoped>\n",
              "    .dataframe tbody tr th:only-of-type {\n",
              "        vertical-align: middle;\n",
              "    }\n",
              "\n",
              "    .dataframe tbody tr th {\n",
              "        vertical-align: top;\n",
              "    }\n",
              "\n",
              "    .dataframe thead th {\n",
              "        text-align: right;\n",
              "    }\n",
              "</style>\n",
              "<table border=\"1\" class=\"dataframe\">\n",
              "  <thead>\n",
              "    <tr style=\"text-align: right;\">\n",
              "      <th></th>\n",
              "      <th>NPA_CL</th>\n",
              "      <th>EVT_STAT_CD</th>\n",
              "      <th>EVT_CL_CD</th>\n",
              "      <th>RPTER_SEX</th>\n",
              "      <th>HPPN_PNU_ADDR</th>\n",
              "      <th>HPPN_X</th>\n",
              "      <th>HPPN_Y</th>\n",
              "      <th>SME_EVT_YN</th>\n",
              "      <th>YEAR</th>\n",
              "      <th>MONTH</th>\n",
              "      <th>...</th>\n",
              "      <th>MINUTE</th>\n",
              "      <th>SECOND</th>\n",
              "      <th>CLEAN_ADDR</th>\n",
              "      <th>HOUR_CAT</th>\n",
              "      <th>SEASON</th>\n",
              "      <th>DATE</th>\n",
              "      <th>HOLIDAY</th>\n",
              "      <th>SEOLLAL</th>\n",
              "      <th>CHUSEOK</th>\n",
              "      <th>WEEK_DAY</th>\n",
              "    </tr>\n",
              "  </thead>\n",
              "  <tbody>\n",
              "    <tr>\n",
              "      <th>0</th>\n",
              "      <td>19</td>\n",
              "      <td>10</td>\n",
              "      <td>406</td>\n",
              "      <td>1</td>\n",
              "      <td>충청남도 공주시 정안면 어물리(정안면) 33-2</td>\n",
              "      <td>127.148714</td>\n",
              "      <td>36.605751</td>\n",
              "      <td>Y</td>\n",
              "      <td>20</td>\n",
              "      <td>1</td>\n",
              "      <td>...</td>\n",
              "      <td>3</td>\n",
              "      <td>11</td>\n",
              "      <td>충청남도 공주시 정안면 어물리  33-2</td>\n",
              "      <td>DAWN</td>\n",
              "      <td>WINTER</td>\n",
              "      <td>2020-01-01</td>\n",
              "      <td>1</td>\n",
              "      <td>0</td>\n",
              "      <td>0</td>\n",
              "      <td>WED</td>\n",
              "    </tr>\n",
              "    <tr>\n",
              "      <th>1</th>\n",
              "      <td>19</td>\n",
              "      <td>10</td>\n",
              "      <td>403</td>\n",
              "      <td>1</td>\n",
              "      <td>충청남도 논산시 채운면 장화리(채운면) 533</td>\n",
              "      <td>127.030921</td>\n",
              "      <td>36.164643</td>\n",
              "      <td>N</td>\n",
              "      <td>20</td>\n",
              "      <td>1</td>\n",
              "      <td>...</td>\n",
              "      <td>18</td>\n",
              "      <td>8</td>\n",
              "      <td>충청남도 논산시 채운면 장화리  533</td>\n",
              "      <td>DAWN</td>\n",
              "      <td>WINTER</td>\n",
              "      <td>2020-01-01</td>\n",
              "      <td>1</td>\n",
              "      <td>0</td>\n",
              "      <td>0</td>\n",
              "      <td>WED</td>\n",
              "    </tr>\n",
              "    <tr>\n",
              "      <th>2</th>\n",
              "      <td>19</td>\n",
              "      <td>10</td>\n",
              "      <td>406</td>\n",
              "      <td>1</td>\n",
              "      <td>세종특별자치시 세종시 소담동(소담동) 32-92</td>\n",
              "      <td>127.305511</td>\n",
              "      <td>36.479819</td>\n",
              "      <td>Y</td>\n",
              "      <td>20</td>\n",
              "      <td>1</td>\n",
              "      <td>...</td>\n",
              "      <td>20</td>\n",
              "      <td>1</td>\n",
              "      <td>세종특별자치시 세종시 소담동  32-92</td>\n",
              "      <td>DAWN</td>\n",
              "      <td>WINTER</td>\n",
              "      <td>2020-01-01</td>\n",
              "      <td>1</td>\n",
              "      <td>0</td>\n",
              "      <td>0</td>\n",
              "      <td>WED</td>\n",
              "    </tr>\n",
              "    <tr>\n",
              "      <th>3</th>\n",
              "      <td>19</td>\n",
              "      <td>10</td>\n",
              "      <td>402</td>\n",
              "      <td>1</td>\n",
              "      <td>충청남도 천안시 서북구 불당동(불당동) 204-4</td>\n",
              "      <td>127.109667</td>\n",
              "      <td>36.815468</td>\n",
              "      <td>N</td>\n",
              "      <td>20</td>\n",
              "      <td>1</td>\n",
              "      <td>...</td>\n",
              "      <td>20</td>\n",
              "      <td>4</td>\n",
              "      <td>충청남도 천안시 서북구 불당동  204-4</td>\n",
              "      <td>DAWN</td>\n",
              "      <td>WINTER</td>\n",
              "      <td>2020-01-01</td>\n",
              "      <td>1</td>\n",
              "      <td>0</td>\n",
              "      <td>0</td>\n",
              "      <td>WED</td>\n",
              "    </tr>\n",
              "    <tr>\n",
              "      <th>4</th>\n",
              "      <td>13</td>\n",
              "      <td>10</td>\n",
              "      <td>401</td>\n",
              "      <td>1</td>\n",
              "      <td>대전광역시 유성구 봉명동(행정:온천1동) 541-26</td>\n",
              "      <td>127.348625</td>\n",
              "      <td>36.353829</td>\n",
              "      <td>N</td>\n",
              "      <td>20</td>\n",
              "      <td>1</td>\n",
              "      <td>...</td>\n",
              "      <td>21</td>\n",
              "      <td>35</td>\n",
              "      <td>대전광역시 유성구 봉명동  541-26</td>\n",
              "      <td>DAWN</td>\n",
              "      <td>WINTER</td>\n",
              "      <td>2020-01-01</td>\n",
              "      <td>1</td>\n",
              "      <td>0</td>\n",
              "      <td>0</td>\n",
              "      <td>WED</td>\n",
              "    </tr>\n",
              "    <tr>\n",
              "      <th>...</th>\n",
              "      <td>...</td>\n",
              "      <td>...</td>\n",
              "      <td>...</td>\n",
              "      <td>...</td>\n",
              "      <td>...</td>\n",
              "      <td>...</td>\n",
              "      <td>...</td>\n",
              "      <td>...</td>\n",
              "      <td>...</td>\n",
              "      <td>...</td>\n",
              "      <td>...</td>\n",
              "      <td>...</td>\n",
              "      <td>...</td>\n",
              "      <td>...</td>\n",
              "      <td>...</td>\n",
              "      <td>...</td>\n",
              "      <td>...</td>\n",
              "      <td>...</td>\n",
              "      <td>...</td>\n",
              "      <td>...</td>\n",
              "      <td>...</td>\n",
              "    </tr>\n",
              "    <tr>\n",
              "      <th>403510</th>\n",
              "      <td>19</td>\n",
              "      <td>10</td>\n",
              "      <td>406</td>\n",
              "      <td>1</td>\n",
              "      <td>충남 천안시 동남구 신부동 320-39</td>\n",
              "      <td>127.152785</td>\n",
              "      <td>36.822255</td>\n",
              "      <td>N</td>\n",
              "      <td>23</td>\n",
              "      <td>1</td>\n",
              "      <td>...</td>\n",
              "      <td>14</td>\n",
              "      <td>52</td>\n",
              "      <td>충남 천안시 동남구 신부동 320-39</td>\n",
              "      <td>NIGH</td>\n",
              "      <td>WINTER</td>\n",
              "      <td>2023-11-08</td>\n",
              "      <td>0</td>\n",
              "      <td>0</td>\n",
              "      <td>0</td>\n",
              "      <td>WED</td>\n",
              "    </tr>\n",
              "    <tr>\n",
              "      <th>403511</th>\n",
              "      <td>13</td>\n",
              "      <td>10</td>\n",
              "      <td>406</td>\n",
              "      <td>1</td>\n",
              "      <td>대전광역시 중구 문화동 (행정:문화1동 ) 1-266</td>\n",
              "      <td>127.414486</td>\n",
              "      <td>36.321280</td>\n",
              "      <td>Y</td>\n",
              "      <td>23</td>\n",
              "      <td>1</td>\n",
              "      <td>...</td>\n",
              "      <td>21</td>\n",
              "      <td>42</td>\n",
              "      <td>대전광역시 중구 문화동   1-266</td>\n",
              "      <td>NIGH</td>\n",
              "      <td>WINTER</td>\n",
              "      <td>2023-11-08</td>\n",
              "      <td>0</td>\n",
              "      <td>0</td>\n",
              "      <td>0</td>\n",
              "      <td>WED</td>\n",
              "    </tr>\n",
              "    <tr>\n",
              "      <th>403512</th>\n",
              "      <td>19</td>\n",
              "      <td>10</td>\n",
              "      <td>401</td>\n",
              "      <td>1</td>\n",
              "      <td>충청남도 당진시 신평면 상오리(신평면 ) 910-6</td>\n",
              "      <td>126.741950</td>\n",
              "      <td>36.868136</td>\n",
              "      <td>Y</td>\n",
              "      <td>23</td>\n",
              "      <td>1</td>\n",
              "      <td>...</td>\n",
              "      <td>32</td>\n",
              "      <td>32</td>\n",
              "      <td>충청남도 당진시 신평면 상오리  910-6</td>\n",
              "      <td>NIGH</td>\n",
              "      <td>WINTER</td>\n",
              "      <td>2023-11-08</td>\n",
              "      <td>0</td>\n",
              "      <td>0</td>\n",
              "      <td>0</td>\n",
              "      <td>WED</td>\n",
              "    </tr>\n",
              "    <tr>\n",
              "      <th>403513</th>\n",
              "      <td>13</td>\n",
              "      <td>10</td>\n",
              "      <td>406</td>\n",
              "      <td>2</td>\n",
              "      <td>대전광역시 서구 월평동 (월평1동 ) 1526</td>\n",
              "      <td>127.357785</td>\n",
              "      <td>36.355010</td>\n",
              "      <td>N</td>\n",
              "      <td>23</td>\n",
              "      <td>1</td>\n",
              "      <td>...</td>\n",
              "      <td>35</td>\n",
              "      <td>52</td>\n",
              "      <td>대전광역시 서구 월평동   1526</td>\n",
              "      <td>NIGH</td>\n",
              "      <td>WINTER</td>\n",
              "      <td>2023-11-08</td>\n",
              "      <td>0</td>\n",
              "      <td>0</td>\n",
              "      <td>0</td>\n",
              "      <td>WED</td>\n",
              "    </tr>\n",
              "    <tr>\n",
              "      <th>403514</th>\n",
              "      <td>19</td>\n",
              "      <td>10</td>\n",
              "      <td>406</td>\n",
              "      <td>1</td>\n",
              "      <td>충청남도 아산시 모종동 (온양3동 ) 661</td>\n",
              "      <td>127.019848</td>\n",
              "      <td>36.778266</td>\n",
              "      <td>N</td>\n",
              "      <td>23</td>\n",
              "      <td>1</td>\n",
              "      <td>...</td>\n",
              "      <td>59</td>\n",
              "      <td>40</td>\n",
              "      <td>충청남도 아산시 모종동   661</td>\n",
              "      <td>NIGH</td>\n",
              "      <td>WINTER</td>\n",
              "      <td>2023-11-08</td>\n",
              "      <td>0</td>\n",
              "      <td>0</td>\n",
              "      <td>0</td>\n",
              "      <td>WED</td>\n",
              "    </tr>\n",
              "  </tbody>\n",
              "</table>\n",
              "<p>403515 rows × 22 columns</p>\n",
              "</div>\n",
              "      <button class=\"colab-df-convert\" onclick=\"convertToInteractive('df-69f003ed-de00-49f3-8977-371405ed3816')\"\n",
              "              title=\"Convert this dataframe to an interactive table.\"\n",
              "              style=\"display:none;\">\n",
              "        \n",
              "  <svg xmlns=\"http://www.w3.org/2000/svg\" height=\"24px\"viewBox=\"0 0 24 24\"\n",
              "       width=\"24px\">\n",
              "    <path d=\"M0 0h24v24H0V0z\" fill=\"none\"/>\n",
              "    <path d=\"M18.56 5.44l.94 2.06.94-2.06 2.06-.94-2.06-.94-.94-2.06-.94 2.06-2.06.94zm-11 1L8.5 8.5l.94-2.06 2.06-.94-2.06-.94L8.5 2.5l-.94 2.06-2.06.94zm10 10l.94 2.06.94-2.06 2.06-.94-2.06-.94-.94-2.06-.94 2.06-2.06.94z\"/><path d=\"M17.41 7.96l-1.37-1.37c-.4-.4-.92-.59-1.43-.59-.52 0-1.04.2-1.43.59L10.3 9.45l-7.72 7.72c-.78.78-.78 2.05 0 2.83L4 21.41c.39.39.9.59 1.41.59.51 0 1.02-.2 1.41-.59l7.78-7.78 2.81-2.81c.8-.78.8-2.07 0-2.86zM5.41 20L4 18.59l7.72-7.72 1.47 1.35L5.41 20z\"/>\n",
              "  </svg>\n",
              "      </button>\n",
              "      \n",
              "  <style>\n",
              "    .colab-df-container {\n",
              "      display:flex;\n",
              "      flex-wrap:wrap;\n",
              "      gap: 12px;\n",
              "    }\n",
              "\n",
              "    .colab-df-convert {\n",
              "      background-color: #E8F0FE;\n",
              "      border: none;\n",
              "      border-radius: 50%;\n",
              "      cursor: pointer;\n",
              "      display: none;\n",
              "      fill: #1967D2;\n",
              "      height: 32px;\n",
              "      padding: 0 0 0 0;\n",
              "      width: 32px;\n",
              "    }\n",
              "\n",
              "    .colab-df-convert:hover {\n",
              "      background-color: #E2EBFA;\n",
              "      box-shadow: 0px 1px 2px rgba(60, 64, 67, 0.3), 0px 1px 3px 1px rgba(60, 64, 67, 0.15);\n",
              "      fill: #174EA6;\n",
              "    }\n",
              "\n",
              "    [theme=dark] .colab-df-convert {\n",
              "      background-color: #3B4455;\n",
              "      fill: #D2E3FC;\n",
              "    }\n",
              "\n",
              "    [theme=dark] .colab-df-convert:hover {\n",
              "      background-color: #434B5C;\n",
              "      box-shadow: 0px 1px 3px 1px rgba(0, 0, 0, 0.15);\n",
              "      filter: drop-shadow(0px 1px 2px rgba(0, 0, 0, 0.3));\n",
              "      fill: #FFFFFF;\n",
              "    }\n",
              "  </style>\n",
              "\n",
              "      <script>\n",
              "        const buttonEl =\n",
              "          document.querySelector('#df-69f003ed-de00-49f3-8977-371405ed3816 button.colab-df-convert');\n",
              "        buttonEl.style.display =\n",
              "          google.colab.kernel.accessAllowed ? 'block' : 'none';\n",
              "\n",
              "        async function convertToInteractive(key) {\n",
              "          const element = document.querySelector('#df-69f003ed-de00-49f3-8977-371405ed3816');\n",
              "          const dataTable =\n",
              "            await google.colab.kernel.invokeFunction('convertToInteractive',\n",
              "                                                     [key], {});\n",
              "          if (!dataTable) return;\n",
              "\n",
              "          const docLinkHtml = 'Like what you see? Visit the ' +\n",
              "            '<a target=\"_blank\" href=https://colab.research.google.com/notebooks/data_table.ipynb>data table notebook</a>'\n",
              "            + ' to learn more about interactive tables.';\n",
              "          element.innerHTML = '';\n",
              "          dataTable['output_type'] = 'display_data';\n",
              "          await google.colab.output.renderOutput(dataTable, element);\n",
              "          const docLink = document.createElement('div');\n",
              "          docLink.innerHTML = docLinkHtml;\n",
              "          element.appendChild(docLink);\n",
              "        }\n",
              "      </script>\n",
              "    </div>\n",
              "  </div>\n",
              "  "
            ]
          },
          "metadata": {},
          "execution_count": 4
        }
      ]
    },
    {
      "cell_type": "markdown",
      "source": [
        "## 범주 count"
      ],
      "metadata": {
        "id": "zI-AZIqDiJvj"
      }
    },
    {
      "cell_type": "markdown",
      "source": [
        "### 교통사고 유형별\n",
        "- 401 : 교통사고\n",
        "- 402 : 교통불편\n",
        "- 403 : 교통위반\n",
        "- 404 : 사망/대형사고\n",
        "- 405 : 인피도주\n",
        "- 406 : 음주운전"
      ],
      "metadata": {
        "id": "lHBoH4iAoHp9"
      }
    },
    {
      "cell_type": "markdown",
      "source": [
        "**교통사고, 음주운전, 교통불편, 교통위반, 인피도주, 사망/대형사고 순으로 많이 발견됨**"
      ],
      "metadata": {
        "id": "-OiZmmyKPuWF"
      }
    },
    {
      "cell_type": "code",
      "source": [
        "sns.countplot(x = 'EVT_CL_CD', data = data, order = data['EVT_CL_CD'].value_counts().index)\n",
        "plt.title('교통사고 유형별 발생 건수')\n",
        "plt.xlabel('교통사고 유형')\n",
        "plt.show()"
      ],
      "metadata": {
        "colab": {
          "base_uri": "https://localhost:8080/",
          "height": 301
        },
        "id": "hqQUghmOrSUC",
        "outputId": "0b767ed3-b0bc-4fa5-aac3-96b7dbada07b"
      },
      "execution_count": null,
      "outputs": [
        {
          "output_type": "display_data",
          "data": {
            "text/plain": [
              "<Figure size 432x288 with 1 Axes>"
            ],
            "image/png": "[encoded data removed]"
          },
          "metadata": {}
        }
      ]
    },
    {
      "cell_type": "code",
      "source": [
        "data['EVT_CL_CD'].value_counts()"
      ],
      "metadata": {
        "colab": {
          "base_uri": "https://localhost:8080/"
        },
        "id": "06uwcEzrIq98",
        "outputId": "126ba11e-4ef5-41a8-c1cc-a4f1de2ad2a1"
      },
      "execution_count": null,
      "outputs": [
        {
          "output_type": "execute_result",
          "data": {
            "text/plain": [
              "401    249236\n",
              "406     65078\n",
              "402     56017\n",
              "403     33118\n",
              "405        46\n",
              "404        20\n",
              "Name: EVT_CL_CD, dtype: int64"
            ]
          },
          "metadata": {},
          "execution_count": 5
        }
      ]
    },
    {
      "cell_type": "markdown",
      "source": [
        "### 신고자 성별"
      ],
      "metadata": {
        "id": "1qZJ1OBcoKk7"
      }
    },
    {
      "cell_type": "code",
      "source": [
        "sns.countplot(x = 'RPTER_SEX', data = data, order = data['RPTER_SEX'].value_counts().index)\n",
        "plt.title('사고 신고자 성별')\n",
        "plt.xlabel('사고 신고자 성별')\n",
        "plt.show()"
      ],
      "metadata": {
        "colab": {
          "base_uri": "https://localhost:8080/",
          "height": 301
        },
        "id": "cbhxByk4q9OY",
        "outputId": "54d5bcc0-ff34-4f7d-f969-703baa1f09c5"
      },
      "execution_count": null,
      "outputs": [
        {
          "output_type": "display_data",
          "data": {
            "text/plain": [
              "<Figure size 432x288 with 1 Axes>"
            ],
            "image/png": "[encoded data removed]"
          },
          "metadata": {}
        }
      ]
    },
    {
      "cell_type": "code",
      "source": [
        "data['RPTER_SEX'].value_counts()"
      ],
      "metadata": {
        "colab": {
          "base_uri": "https://localhost:8080/"
        },
        "id": "nd-rtT6xIaFh",
        "outputId": "910a5941-a377-4ac7-ddcd-c3a087cf82cb"
      },
      "execution_count": null,
      "outputs": [
        {
          "output_type": "execute_result",
          "data": {
            "text/plain": [
              "1    285708\n",
              "2     77080\n",
              "3     40718\n",
              "0         9\n",
              "Name: RPTER_SEX, dtype: int64"
            ]
          },
          "metadata": {},
          "execution_count": 40
        }
      ]
    },
    {
      "cell_type": "markdown",
      "source": [
        "### NPA_CL"
      ],
      "metadata": {
        "id": "fLghFCoyoNDN"
      }
    },
    {
      "cell_type": "code",
      "source": [
        "sns.countplot(x = 'NPA_CL', data = data, order = data['NPA_CL'].value_counts().index)\n",
        "plt.title('NPA_CL')\n",
        "plt.xlabel('NPA_CL')\n",
        "plt.show()\n"
      ],
      "metadata": {
        "colab": {
          "base_uri": "https://localhost:8080/",
          "height": 301
        },
        "id": "ETufeV7LE2UE",
        "outputId": "ca3a0480-6a5f-42c3-a684-45c42d81fb08"
      },
      "execution_count": null,
      "outputs": [
        {
          "output_type": "display_data",
          "data": {
            "text/plain": [
              "<Figure size 432x288 with 1 Axes>"
            ],
            "image/png": "[encoded data removed]"
          },
          "metadata": {}
        }
      ]
    },
    {
      "cell_type": "code",
      "source": [
        "data['NPA_CL'].value_counts()"
      ],
      "metadata": {
        "colab": {
          "base_uri": "https://localhost:8080/"
        },
        "id": "u2tT0NY7NY9b",
        "outputId": "0df5fbf0-6cfa-474a-be51-86785bf592de"
      },
      "execution_count": null,
      "outputs": [
        {
          "output_type": "execute_result",
          "data": {
            "text/plain": [
              "19    234031\n",
              "13    148949\n",
              "31     15964\n",
              "18      2211\n",
              "15      1689\n",
              "20       546\n",
              "8         44\n",
              "11        40\n",
              "16        18\n",
              "22         6\n",
              "21         5\n",
              "23         5\n",
              "17         3\n",
              "12         2\n",
              "9          2\n",
              "Name: NPA_CL, dtype: int64"
            ]
          },
          "metadata": {},
          "execution_count": 42
        }
      ]
    },
    {
      "cell_type": "markdown",
      "source": [
        "### 중복 접수"
      ],
      "metadata": {
        "id": "msuwWqe3oRWc"
      }
    },
    {
      "cell_type": "code",
      "source": [
        "sns.countplot(x = 'SME_EVT_YN', data = data, order = data['SME_EVT_YN'].value_counts().index)\n",
        "plt.title('중복 접수된 사고건수')\n",
        "plt.xlabel('중복 접수 발생 유무')\n",
        "plt.show()"
      ],
      "metadata": {
        "colab": {
          "base_uri": "https://localhost:8080/",
          "height": 301
        },
        "id": "w3IdE7PvNdae",
        "outputId": "ae33b5a5-5241-482b-9c30-e96944576dcf"
      },
      "execution_count": null,
      "outputs": [
        {
          "output_type": "display_data",
          "data": {
            "text/plain": [
              "<Figure size 432x288 with 1 Axes>"
            ],
            "image/png": "[encoded data removed]"
          },
          "metadata": {}
        }
      ]
    },
    {
      "cell_type": "code",
      "source": [
        "data['SME_EVT_YN'].value_counts()"
      ],
      "metadata": {
        "colab": {
          "base_uri": "https://localhost:8080/"
        },
        "id": "_xM6epSAOjX9",
        "outputId": "9b1a0dc5-4895-4352-9c4b-10032ac6d61a"
      },
      "execution_count": null,
      "outputs": [
        {
          "output_type": "execute_result",
          "data": {
            "text/plain": [
              "N    341302\n",
              "Y     62213\n",
              "Name: SME_EVT_YN, dtype: int64"
            ]
          },
          "metadata": {},
          "execution_count": 44
        }
      ]
    },
    {
      "cell_type": "markdown",
      "source": [
        "### 월"
      ],
      "metadata": {
        "id": "sL4sGq0DoU3f"
      }
    },
    {
      "cell_type": "markdown",
      "source": [
        "**9월10월(가을), 7월8월(여름), 겨울 및 봄으로 사고가 많이 일어남**"
      ],
      "metadata": {
        "id": "7uRavFJZQKzf"
      }
    },
    {
      "cell_type": "code",
      "source": [
        "sns.countplot(x = 'MONTH', data = data, order = data['MONTH'].value_counts().index)\n",
        "plt.title('월 별 사고 발생 건수')\n",
        "plt.xlabel('사고 발생 월')\n",
        "plt.show()"
      ],
      "metadata": {
        "colab": {
          "base_uri": "https://localhost:8080/",
          "height": 301
        },
        "id": "MsimRAnEOmvB",
        "outputId": "51f42d35-0a7b-4feb-f70c-c39cbe30f576"
      },
      "execution_count": null,
      "outputs": [
        {
          "output_type": "display_data",
          "data": {
            "text/plain": [
              "<Figure size 432x288 with 1 Axes>"
            ],
            "image/png": "[encoded data removed]"
          },
          "metadata": {}
        }
      ]
    },
    {
      "cell_type": "code",
      "source": [
        "data['MONTH'].value_counts()"
      ],
      "metadata": {
        "colab": {
          "base_uri": "https://localhost:8080/"
        },
        "id": "sl3dyFwLO37E",
        "outputId": "755e7037-1a9a-4adc-9ddd-6a9b2e597a96"
      },
      "execution_count": null,
      "outputs": [
        {
          "output_type": "execute_result",
          "data": {
            "text/plain": [
              "9     38757\n",
              "10    38227\n",
              "7     36580\n",
              "8     36065\n",
              "5     35416\n",
              "6     35157\n",
              "1     34046\n",
              "11    33070\n",
              "4     31122\n",
              "12    30566\n",
              "3     28695\n",
              "2     25814\n",
              "Name: MONTH, dtype: int64"
            ]
          },
          "metadata": {},
          "execution_count": 46
        }
      ]
    },
    {
      "cell_type": "markdown",
      "source": [
        "### 시간"
      ],
      "metadata": {
        "id": "Pcu4I8eMoW62"
      }
    },
    {
      "cell_type": "markdown",
      "source": [
        "**오후, 저녁, 밤 순으로 사고가 많이 일어남**"
      ],
      "metadata": {
        "id": "XEc02KKsQgV-"
      }
    },
    {
      "cell_type": "code",
      "source": [
        "sns.countplot(x = 'HOUR', data = data, order = data['HOUR'].value_counts().index)\n",
        "plt.title('시간 별 사고 발생 건수')\n",
        "plt.xlabel('사고 발생 시간')\n",
        "plt.show()"
      ],
      "metadata": {
        "colab": {
          "base_uri": "https://localhost:8080/",
          "height": 301
        },
        "id": "LbY54N0FPTeD",
        "outputId": "cbf9b06d-dabd-4c54-f298-2b122136627b"
      },
      "execution_count": null,
      "outputs": [
        {
          "output_type": "display_data",
          "data": {
            "text/plain": [
              "<Figure size 432x288 with 1 Axes>"
            ],
            "image/png": "[encoded data removed]"
          },
          "metadata": {}
        }
      ]
    },
    {
      "cell_type": "code",
      "source": [
        "data['HOUR'].value_counts()"
      ],
      "metadata": {
        "colab": {
          "base_uri": "https://localhost:8080/"
        },
        "id": "sK5IIe8yge3o",
        "outputId": "04831939-4b48-4b0c-cf1f-69b84de01882"
      },
      "execution_count": null,
      "outputs": [
        {
          "output_type": "execute_result",
          "data": {
            "text/plain": [
              "18    28368\n",
              "17    25753\n",
              "16    23744\n",
              "15    23286\n",
              "14    23033\n",
              "19    22133\n",
              "13    21681\n",
              "21    21338\n",
              "20    20635\n",
              "22    20325\n",
              "12    19752\n",
              "11    19461\n",
              "10    18638\n",
              "9     17403\n",
              "8     16961\n",
              "23    16357\n",
              "0     14304\n",
              "1     10497\n",
              "7     10488\n",
              "2      7739\n",
              "6      6531\n",
              "3      5808\n",
              "4      4691\n",
              "5      4589\n",
              "Name: HOUR, dtype: int64"
            ]
          },
          "metadata": {},
          "execution_count": 49
        }
      ]
    },
    {
      "cell_type": "markdown",
      "source": [
        "### 요일"
      ],
      "metadata": {
        "id": "lCAOXJKmoYtq"
      }
    },
    {
      "cell_type": "markdown",
      "source": [
        "**토요일, 금요일에 많이 일어남**"
      ],
      "metadata": {
        "id": "Pyq1hEMIQtNS"
      }
    },
    {
      "cell_type": "code",
      "source": [
        "sns.countplot(x = 'WEEK_DAY', data = data, order = data['WEEK_DAY'].value_counts().index)\n",
        "plt.title('요일 별 사고 발생 건수')\n",
        "plt.xlabel('요일')\n",
        "plt.show()"
      ],
      "metadata": {
        "colab": {
          "base_uri": "https://localhost:8080/",
          "height": 301
        },
        "id": "RJKbES4fhbTq",
        "outputId": "a1045d65-0bdb-440e-8f9a-23122be50f5a"
      },
      "execution_count": null,
      "outputs": [
        {
          "output_type": "display_data",
          "data": {
            "text/plain": [
              "<Figure size 432x288 with 1 Axes>"
            ],
            "image/png": "[encoded data removed]"
          },
          "metadata": {}
        }
      ]
    },
    {
      "cell_type": "code",
      "source": [
        "data['WEEK_DAY'].value_counts()"
      ],
      "metadata": {
        "colab": {
          "base_uri": "https://localhost:8080/"
        },
        "id": "Yz3JgoIviCRC",
        "outputId": "430e50cb-0417-41de-a2cb-9bf5ba5586f6"
      },
      "execution_count": null,
      "outputs": [
        {
          "output_type": "execute_result",
          "data": {
            "text/plain": [
              "SAT    63334\n",
              "FRI    62823\n",
              "THU    57433\n",
              "WED    56705\n",
              "MON    56223\n",
              "TUE    56202\n",
              "SUN    50795\n",
              "Name: WEEK_DAY, dtype: int64"
            ]
          },
          "metadata": {},
          "execution_count": 64
        }
      ]
    },
    {
      "cell_type": "markdown",
      "source": [
        "### 시간대"
      ],
      "metadata": {
        "id": "u_o-FI2HoaMI"
      }
    },
    {
      "cell_type": "code",
      "source": [
        "sns.countplot(x = 'HOUR_CAT', data = data, order = data['HOUR_CAT'].value_counts().index)\n",
        "plt.title('시간대 별 사고 발생 건수')\n",
        "plt.xlabel('사고 발생 시간대')\n",
        "plt.show()"
      ],
      "metadata": {
        "colab": {
          "base_uri": "https://localhost:8080/",
          "height": 301
        },
        "id": "TMMgtAO2gqyI",
        "outputId": "554018ba-dbfa-45f0-812f-d6bd71073e46"
      },
      "execution_count": null,
      "outputs": [
        {
          "output_type": "display_data",
          "data": {
            "text/plain": [
              "<Figure size 432x288 with 1 Axes>"
            ],
            "image/png": "[encoded data removed]"
          },
          "metadata": {}
        }
      ]
    },
    {
      "cell_type": "code",
      "source": [
        "data['HOUR_CAT'].value_counts()"
      ],
      "metadata": {
        "colab": {
          "base_uri": "https://localhost:8080/"
        },
        "id": "Tk5DlnXEg0BC",
        "outputId": "7dd04b3c-f6f6-455a-e28f-05676e5a7ea9"
      },
      "execution_count": null,
      "outputs": [
        {
          "output_type": "execute_result",
          "data": {
            "text/plain": [
              "AFTE    166998\n",
              "EVEN     96889\n",
              "NIGH     58020\n",
              "DAWN     43039\n",
              "MORN     38569\n",
              "Name: HOUR_CAT, dtype: int64"
            ]
          },
          "metadata": {},
          "execution_count": 54
        }
      ]
    },
    {
      "cell_type": "markdown",
      "source": [
        "### 계절"
      ],
      "metadata": {
        "id": "Lfq0t15Mobn1"
      }
    },
    {
      "cell_type": "code",
      "source": [
        "sns.countplot(x = 'SEASON', data = data, order = data['SEASON'].value_counts().index)\n",
        "plt.title('계절 별 사고 발생 건수')\n",
        "plt.xlabel('사고 발생 계절')\n",
        "plt.show()"
      ],
      "metadata": {
        "colab": {
          "base_uri": "https://localhost:8080/",
          "height": 301
        },
        "id": "MRhqixJng7Qd",
        "outputId": "653fcbd3-aedf-49dc-9084-85f1561ac8cd"
      },
      "execution_count": null,
      "outputs": [
        {
          "output_type": "display_data",
          "data": {
            "text/plain": [
              "<Figure size 432x288 with 1 Axes>"
            ],
            "image/png": "[encoded data removed]"
          },
          "metadata": {}
        }
      ]
    },
    {
      "cell_type": "code",
      "source": [
        "data['SEASON'].value_counts()"
      ],
      "metadata": {
        "colab": {
          "base_uri": "https://localhost:8080/"
        },
        "id": "DiwUIFRthDnW",
        "outputId": "c0092e5d-700c-4228-8f66-fbf8309465fe"
      },
      "execution_count": null,
      "outputs": [
        {
          "output_type": "execute_result",
          "data": {
            "text/plain": [
              "FALL      110054\n",
              "SUMMER    107802\n",
              "SPRING     95233\n",
              "WINTER     90426\n",
              "Name: SEASON, dtype: int64"
            ]
          },
          "metadata": {},
          "execution_count": 56
        }
      ]
    },
    {
      "cell_type": "markdown",
      "source": [
        "### 공휴일"
      ],
      "metadata": {
        "id": "65xYsyX3odp5"
      }
    },
    {
      "cell_type": "code",
      "source": [
        "# 의미 없을듯\n",
        "sns.countplot(x = 'HOLIDAY', data = data, order = data['HOLIDAY'].value_counts().index)\n",
        "plt.title('공휴일 사고 발생 건수')\n",
        "plt.xlabel('공휴일 구분')\n",
        "plt.show()"
      ],
      "metadata": {
        "colab": {
          "base_uri": "https://localhost:8080/",
          "height": 301
        },
        "id": "b3Z7u1xThGs7",
        "outputId": "6ec20dea-3599-4b47-d76b-28cb43269378"
      },
      "execution_count": null,
      "outputs": [
        {
          "output_type": "display_data",
          "data": {
            "text/plain": [
              "<Figure size 432x288 with 1 Axes>"
            ],
            "image/png": "[encoded data removed]"
          },
          "metadata": {}
        }
      ]
    },
    {
      "cell_type": "code",
      "source": [
        "data['HOLIDAY'].value_counts()"
      ],
      "metadata": {
        "colab": {
          "base_uri": "https://localhost:8080/"
        },
        "id": "l9fYmV2DhvP5",
        "outputId": "80e00aa2-4d15-495f-9063-ab6be260b971"
      },
      "execution_count": null,
      "outputs": [
        {
          "output_type": "execute_result",
          "data": {
            "text/plain": [
              "0    388682\n",
              "1     14833\n",
              "Name: HOLIDAY, dtype: int64"
            ]
          },
          "metadata": {},
          "execution_count": 60
        }
      ]
    },
    {
      "cell_type": "markdown",
      "source": [
        "### 설날"
      ],
      "metadata": {
        "id": "RosKa0JNofmk"
      }
    },
    {
      "cell_type": "code",
      "source": [
        "# 의미 없을듯\n",
        "sns.countplot(x = 'SEOLLAL', data = data, order = data['SEOLLAL'].value_counts().index)\n",
        "plt.title('설날 사고 발생 건수')\n",
        "plt.xlabel('설날 구분')\n",
        "plt.show()"
      ],
      "metadata": {
        "colab": {
          "base_uri": "https://localhost:8080/",
          "height": 301
        },
        "id": "F4-lZ61ehUih",
        "outputId": "a126bd07-ab83-4015-acc4-23e416855507"
      },
      "execution_count": null,
      "outputs": [
        {
          "output_type": "display_data",
          "data": {
            "text/plain": [
              "<Figure size 432x288 with 1 Axes>"
            ],
            "image/png": "[encoded data removed]"
          },
          "metadata": {}
        }
      ]
    },
    {
      "cell_type": "code",
      "source": [
        "data['SEOLLAL'].value_counts()"
      ],
      "metadata": {
        "colab": {
          "base_uri": "https://localhost:8080/"
        },
        "id": "2ijtE4u4hjca",
        "outputId": "c7bb668d-2ae0-4653-997a-6efd35ce9fc0"
      },
      "execution_count": null,
      "outputs": [
        {
          "output_type": "execute_result",
          "data": {
            "text/plain": [
              "0    402046\n",
              "1      1469\n",
              "Name: SEOLLAL, dtype: int64"
            ]
          },
          "metadata": {},
          "execution_count": 61
        }
      ]
    },
    {
      "cell_type": "markdown",
      "source": [
        "### 추석"
      ],
      "metadata": {
        "id": "QQjbXAqgogvu"
      }
    },
    {
      "cell_type": "code",
      "source": [
        "# 의미 없을듯\n",
        "sns.countplot(x = 'CHUSEOK', data = data, order = data['CHUSEOK'].value_counts().index)\n",
        "plt.title('추석 사고 발생 건수')\n",
        "plt.xlabel('추석 구분')\n",
        "plt.show()"
      ],
      "metadata": {
        "colab": {
          "base_uri": "https://localhost:8080/",
          "height": 301
        },
        "id": "3vBvJdUwhyXE",
        "outputId": "fa1b9d9a-b2fd-4623-bcc9-58901b30561a"
      },
      "execution_count": null,
      "outputs": [
        {
          "output_type": "display_data",
          "data": {
            "text/plain": [
              "<Figure size 432x288 with 1 Axes>"
            ],
            "image/png": "[encoded data removed]"
          },
          "metadata": {}
        }
      ]
    },
    {
      "cell_type": "markdown",
      "source": [
        "## 요일별 시간"
      ],
      "metadata": {
        "id": "odewVFu1iNBy"
      }
    },
    {
      "cell_type": "markdown",
      "source": [
        "**각 요일에 오후, 저녁, 밤 순으로 많이 발생**"
      ],
      "metadata": {
        "id": "ALIuBbI5Q-P9"
      }
    },
    {
      "cell_type": "code",
      "source": [
        "sns.countplot(x = 'WEEK_DAY', data = data, hue=\"HOUR_CAT\")\n",
        "plt.title('요일 별 시간대 사고 발생 건수')\n",
        "plt.xlabel('요일')\n",
        "plt.legend(loc = 2, bbox_to_anchor = (1,1))\n",
        "plt.show()"
      ],
      "metadata": {
        "colab": {
          "base_uri": "https://localhost:8080/",
          "height": 301
        },
        "id": "JhwsMaKWh4Ry",
        "outputId": "741d1b8e-29d0-47a3-c9a8-22fd4aeabced"
      },
      "execution_count": null,
      "outputs": [
        {
          "output_type": "display_data",
          "data": {
            "text/plain": [
              "<Figure size 432x288 with 1 Axes>"
            ],
            "image/png": "[encoded data removed]"
          },
          "metadata": {}
        }
      ]
    },
    {
      "cell_type": "code",
      "source": [
        "pd.crosstab(data[\"HOUR_CAT\"],data[\"WEEK_DAY\"])"
      ],
      "metadata": {
        "colab": {
          "base_uri": "https://localhost:8080/",
          "height": 238
        },
        "id": "TpjpG8IFjUnn",
        "outputId": "cc429b54-5a6a-43d2-8bad-6c9e00ac6a90"
      },
      "execution_count": null,
      "outputs": [
        {
          "output_type": "execute_result",
          "data": {
            "text/plain": [
              "WEEK_DAY    FRI    MON    SAT    SUN    THU    TUE    WED\n",
              "HOUR_CAT                                                 \n",
              "AFTE      24627  24605  27639  20570  23284  23432  22841\n",
              "DAWN       5943   4432   8390   8797   5373   4829   5275\n",
              "EVEN      16489  13778  13492  11329  13970  13739  14092\n",
              "MORN       5793   6049   4524   3435   6329   6170   6269\n",
              "NIGH       9971   7359   9289   6664   8477   8032   8228"
            ],
            "text/html": [
              "\n",
              "  <div id=\"df-bac81c0d-7997-43c0-9069-3e074432f9f0\">\n",
              "    <div class=\"colab-df-container\">\n",
              "      <div>\n",
              "<style scoped>\n",
              "    .dataframe tbody tr th:only-of-type {\n",
              "        vertical-align: middle;\n",
              "    }\n",
              "\n",
              "    .dataframe tbody tr th {\n",
              "        vertical-align: top;\n",
              "    }\n",
              "\n",
              "    .dataframe thead th {\n",
              "        text-align: right;\n",
              "    }\n",
              "</style>\n",
              "<table border=\"1\" class=\"dataframe\">\n",
              "  <thead>\n",
              "    <tr style=\"text-align: right;\">\n",
              "      <th>WEEK_DAY</th>\n",
              "      <th>FRI</th>\n",
              "      <th>MON</th>\n",
              "      <th>SAT</th>\n",
              "      <th>SUN</th>\n",
              "      <th>THU</th>\n",
              "      <th>TUE</th>\n",
              "      <th>WED</th>\n",
              "    </tr>\n",
              "    <tr>\n",
              "      <th>HOUR_CAT</th>\n",
              "      <th></th>\n",
              "      <th></th>\n",
              "      <th></th>\n",
              "      <th></th>\n",
              "      <th></th>\n",
              "      <th></th>\n",
              "      <th></th>\n",
              "    </tr>\n",
              "  </thead>\n",
              "  <tbody>\n",
              "    <tr>\n",
              "      <th>AFTE</th>\n",
              "      <td>24627</td>\n",
              "      <td>24605</td>\n",
              "      <td>27639</td>\n",
              "      <td>20570</td>\n",
              "      <td>23284</td>\n",
              "      <td>23432</td>\n",
              "      <td>22841</td>\n",
              "    </tr>\n",
              "    <tr>\n",
              "      <th>DAWN</th>\n",
              "      <td>5943</td>\n",
              "      <td>4432</td>\n",
              "      <td>8390</td>\n",
              "      <td>8797</td>\n",
              "      <td>5373</td>\n",
              "      <td>4829</td>\n",
              "      <td>5275</td>\n",
              "    </tr>\n",
              "    <tr>\n",
              "      <th>EVEN</th>\n",
              "      <td>16489</td>\n",
              "      <td>13778</td>\n",
              "      <td>13492</td>\n",
              "      <td>11329</td>\n",
              "      <td>13970</td>\n",
              "      <td>13739</td>\n",
              "      <td>14092</td>\n",
              "    </tr>\n",
              "    <tr>\n",
              "      <th>MORN</th>\n",
              "      <td>5793</td>\n",
              "      <td>6049</td>\n",
              "      <td>4524</td>\n",
              "      <td>3435</td>\n",
              "      <td>6329</td>\n",
              "      <td>6170</td>\n",
              "      <td>6269</td>\n",
              "    </tr>\n",
              "    <tr>\n",
              "      <th>NIGH</th>\n",
              "      <td>9971</td>\n",
              "      <td>7359</td>\n",
              "      <td>9289</td>\n",
              "      <td>6664</td>\n",
              "      <td>8477</td>\n",
              "      <td>8032</td>\n",
              "      <td>8228</td>\n",
              "    </tr>\n",
              "  </tbody>\n",
              "</table>\n",
              "</div>\n",
              "      <button class=\"colab-df-convert\" onclick=\"convertToInteractive('df-bac81c0d-7997-43c0-9069-3e074432f9f0')\"\n",
              "              title=\"Convert this dataframe to an interactive table.\"\n",
              "              style=\"display:none;\">\n",
              "        \n",
              "  <svg xmlns=\"http://www.w3.org/2000/svg\" height=\"24px\"viewBox=\"0 0 24 24\"\n",
              "       width=\"24px\">\n",
              "    <path d=\"M0 0h24v24H0V0z\" fill=\"none\"/>\n",
              "    <path d=\"M18.56 5.44l.94 2.06.94-2.06 2.06-.94-2.06-.94-.94-2.06-.94 2.06-2.06.94zm-11 1L8.5 8.5l.94-2.06 2.06-.94-2.06-.94L8.5 2.5l-.94 2.06-2.06.94zm10 10l.94 2.06.94-2.06 2.06-.94-2.06-.94-.94-2.06-.94 2.06-2.06.94z\"/><path d=\"M17.41 7.96l-1.37-1.37c-.4-.4-.92-.59-1.43-.59-.52 0-1.04.2-1.43.59L10.3 9.45l-7.72 7.72c-.78.78-.78 2.05 0 2.83L4 21.41c.39.39.9.59 1.41.59.51 0 1.02-.2 1.41-.59l7.78-7.78 2.81-2.81c.8-.78.8-2.07 0-2.86zM5.41 20L4 18.59l7.72-7.72 1.47 1.35L5.41 20z\"/>\n",
              "  </svg>\n",
              "      </button>\n",
              "      \n",
              "  <style>\n",
              "    .colab-df-container {\n",
              "      display:flex;\n",
              "      flex-wrap:wrap;\n",
              "      gap: 12px;\n",
              "    }\n",
              "\n",
              "    .colab-df-convert {\n",
              "      background-color: #E8F0FE;\n",
              "      border: none;\n",
              "      border-radius: 50%;\n",
              "      cursor: pointer;\n",
              "      display: none;\n",
              "      fill: #1967D2;\n",
              "      height: 32px;\n",
              "      padding: 0 0 0 0;\n",
              "      width: 32px;\n",
              "    }\n",
              "\n",
              "    .colab-df-convert:hover {\n",
              "      background-color: #E2EBFA;\n",
              "      box-shadow: 0px 1px 2px rgba(60, 64, 67, 0.3), 0px 1px 3px 1px rgba(60, 64, 67, 0.15);\n",
              "      fill: #174EA6;\n",
              "    }\n",
              "\n",
              "    [theme=dark] .colab-df-convert {\n",
              "      background-color: #3B4455;\n",
              "      fill: #D2E3FC;\n",
              "    }\n",
              "\n",
              "    [theme=dark] .colab-df-convert:hover {\n",
              "      background-color: #434B5C;\n",
              "      box-shadow: 0px 1px 3px 1px rgba(0, 0, 0, 0.15);\n",
              "      filter: drop-shadow(0px 1px 2px rgba(0, 0, 0, 0.3));\n",
              "      fill: #FFFFFF;\n",
              "    }\n",
              "  </style>\n",
              "\n",
              "      <script>\n",
              "        const buttonEl =\n",
              "          document.querySelector('#df-bac81c0d-7997-43c0-9069-3e074432f9f0 button.colab-df-convert');\n",
              "        buttonEl.style.display =\n",
              "          google.colab.kernel.accessAllowed ? 'block' : 'none';\n",
              "\n",
              "        async function convertToInteractive(key) {\n",
              "          const element = document.querySelector('#df-bac81c0d-7997-43c0-9069-3e074432f9f0');\n",
              "          const dataTable =\n",
              "            await google.colab.kernel.invokeFunction('convertToInteractive',\n",
              "                                                     [key], {});\n",
              "          if (!dataTable) return;\n",
              "\n",
              "          const docLinkHtml = 'Like what you see? Visit the ' +\n",
              "            '<a target=\"_blank\" href=https://colab.research.google.com/notebooks/data_table.ipynb>data table notebook</a>'\n",
              "            + ' to learn more about interactive tables.';\n",
              "          element.innerHTML = '';\n",
              "          dataTable['output_type'] = 'display_data';\n",
              "          await google.colab.output.renderOutput(dataTable, element);\n",
              "          const docLink = document.createElement('div');\n",
              "          docLink.innerHTML = docLinkHtml;\n",
              "          element.appendChild(docLink);\n",
              "        }\n",
              "      </script>\n",
              "    </div>\n",
              "  </div>\n",
              "  "
            ]
          },
          "metadata": {},
          "execution_count": 72
        }
      ]
    },
    {
      "cell_type": "markdown",
      "source": [
        "## 계절별 시간대"
      ],
      "metadata": {
        "id": "pC_Qz48ion9z"
      }
    },
    {
      "cell_type": "markdown",
      "source": [
        "**각 계절에 오후, 저녁, 밤 순으로 발생**"
      ],
      "metadata": {
        "id": "HbMBP-EuRIJo"
      }
    },
    {
      "cell_type": "code",
      "source": [
        "sns.countplot(x = 'SEASON', data = data, hue=\"HOUR_CAT\")\n",
        "plt.title('계절 별 시간대 사고 발생 건수')\n",
        "plt.xlabel('계절')\n",
        "plt.legend(loc = 2, bbox_to_anchor = (1,1))\n",
        "plt.show()"
      ],
      "metadata": {
        "colab": {
          "base_uri": "https://localhost:8080/",
          "height": 301
        },
        "id": "MDrXfUVQmku9",
        "outputId": "89ba18ba-8de8-4652-db12-be341ff1d52f"
      },
      "execution_count": null,
      "outputs": [
        {
          "output_type": "display_data",
          "data": {
            "text/plain": [
              "<Figure size 432x288 with 1 Axes>"
            ],
            "image/png": "[encoded data removed]"
          },
          "metadata": {}
        }
      ]
    },
    {
      "cell_type": "code",
      "source": [
        "pd.crosstab(data[\"HOUR_CAT\"],data[\"SEASON\"])"
      ],
      "metadata": {
        "colab": {
          "base_uri": "https://localhost:8080/",
          "height": 238
        },
        "id": "fRDdAbcQoutp",
        "outputId": "b5abb98b-288d-4017-dfa5-a078439d0831"
      },
      "execution_count": null,
      "outputs": [
        {
          "output_type": "execute_result",
          "data": {
            "text/plain": [
              "SEASON     FALL  SPRING  SUMMER  WINTER\n",
              "HOUR_CAT                               \n",
              "AFTE      45623   39212   43922   38241\n",
              "DAWN      11271   10962   12590    8216\n",
              "EVEN      27571   22136   24879   22303\n",
              "MORN      10404    8954   10422    8789\n",
              "NIGH      15185   13969   15989   12877"
            ],
            "text/html": [
              "\n",
              "  <div id=\"df-3b832773-58b5-4fe6-ac5a-3cdd4bd1e11c\">\n",
              "    <div class=\"colab-df-container\">\n",
              "      <div>\n",
              "<style scoped>\n",
              "    .dataframe tbody tr th:only-of-type {\n",
              "        vertical-align: middle;\n",
              "    }\n",
              "\n",
              "    .dataframe tbody tr th {\n",
              "        vertical-align: top;\n",
              "    }\n",
              "\n",
              "    .dataframe thead th {\n",
              "        text-align: right;\n",
              "    }\n",
              "</style>\n",
              "<table border=\"1\" class=\"dataframe\">\n",
              "  <thead>\n",
              "    <tr style=\"text-align: right;\">\n",
              "      <th>SEASON</th>\n",
              "      <th>FALL</th>\n",
              "      <th>SPRING</th>\n",
              "      <th>SUMMER</th>\n",
              "      <th>WINTER</th>\n",
              "    </tr>\n",
              "    <tr>\n",
              "      <th>HOUR_CAT</th>\n",
              "      <th></th>\n",
              "      <th></th>\n",
              "      <th></th>\n",
              "      <th></th>\n",
              "    </tr>\n",
              "  </thead>\n",
              "  <tbody>\n",
              "    <tr>\n",
              "      <th>AFTE</th>\n",
              "      <td>45623</td>\n",
              "      <td>39212</td>\n",
              "      <td>43922</td>\n",
              "      <td>38241</td>\n",
              "    </tr>\n",
              "    <tr>\n",
              "      <th>DAWN</th>\n",
              "      <td>11271</td>\n",
              "      <td>10962</td>\n",
              "      <td>12590</td>\n",
              "      <td>8216</td>\n",
              "    </tr>\n",
              "    <tr>\n",
              "      <th>EVEN</th>\n",
              "      <td>27571</td>\n",
              "      <td>22136</td>\n",
              "      <td>24879</td>\n",
              "      <td>22303</td>\n",
              "    </tr>\n",
              "    <tr>\n",
              "      <th>MORN</th>\n",
              "      <td>10404</td>\n",
              "      <td>8954</td>\n",
              "      <td>10422</td>\n",
              "      <td>8789</td>\n",
              "    </tr>\n",
              "    <tr>\n",
              "      <th>NIGH</th>\n",
              "      <td>15185</td>\n",
              "      <td>13969</td>\n",
              "      <td>15989</td>\n",
              "      <td>12877</td>\n",
              "    </tr>\n",
              "  </tbody>\n",
              "</table>\n",
              "</div>\n",
              "      <button class=\"colab-df-convert\" onclick=\"convertToInteractive('df-3b832773-58b5-4fe6-ac5a-3cdd4bd1e11c')\"\n",
              "              title=\"Convert this dataframe to an interactive table.\"\n",
              "              style=\"display:none;\">\n",
              "        \n",
              "  <svg xmlns=\"http://www.w3.org/2000/svg\" height=\"24px\"viewBox=\"0 0 24 24\"\n",
              "       width=\"24px\">\n",
              "    <path d=\"M0 0h24v24H0V0z\" fill=\"none\"/>\n",
              "    <path d=\"M18.56 5.44l.94 2.06.94-2.06 2.06-.94-2.06-.94-.94-2.06-.94 2.06-2.06.94zm-11 1L8.5 8.5l.94-2.06 2.06-.94-2.06-.94L8.5 2.5l-.94 2.06-2.06.94zm10 10l.94 2.06.94-2.06 2.06-.94-2.06-.94-.94-2.06-.94 2.06-2.06.94z\"/><path d=\"M17.41 7.96l-1.37-1.37c-.4-.4-.92-.59-1.43-.59-.52 0-1.04.2-1.43.59L10.3 9.45l-7.72 7.72c-.78.78-.78 2.05 0 2.83L4 21.41c.39.39.9.59 1.41.59.51 0 1.02-.2 1.41-.59l7.78-7.78 2.81-2.81c.8-.78.8-2.07 0-2.86zM5.41 20L4 18.59l7.72-7.72 1.47 1.35L5.41 20z\"/>\n",
              "  </svg>\n",
              "      </button>\n",
              "      \n",
              "  <style>\n",
              "    .colab-df-container {\n",
              "      display:flex;\n",
              "      flex-wrap:wrap;\n",
              "      gap: 12px;\n",
              "    }\n",
              "\n",
              "    .colab-df-convert {\n",
              "      background-color: #E8F0FE;\n",
              "      border: none;\n",
              "      border-radius: 50%;\n",
              "      cursor: pointer;\n",
              "      display: none;\n",
              "      fill: #1967D2;\n",
              "      height: 32px;\n",
              "      padding: 0 0 0 0;\n",
              "      width: 32px;\n",
              "    }\n",
              "\n",
              "    .colab-df-convert:hover {\n",
              "      background-color: #E2EBFA;\n",
              "      box-shadow: 0px 1px 2px rgba(60, 64, 67, 0.3), 0px 1px 3px 1px rgba(60, 64, 67, 0.15);\n",
              "      fill: #174EA6;\n",
              "    }\n",
              "\n",
              "    [theme=dark] .colab-df-convert {\n",
              "      background-color: #3B4455;\n",
              "      fill: #D2E3FC;\n",
              "    }\n",
              "\n",
              "    [theme=dark] .colab-df-convert:hover {\n",
              "      background-color: #434B5C;\n",
              "      box-shadow: 0px 1px 3px 1px rgba(0, 0, 0, 0.15);\n",
              "      filter: drop-shadow(0px 1px 2px rgba(0, 0, 0, 0.3));\n",
              "      fill: #FFFFFF;\n",
              "    }\n",
              "  </style>\n",
              "\n",
              "      <script>\n",
              "        const buttonEl =\n",
              "          document.querySelector('#df-3b832773-58b5-4fe6-ac5a-3cdd4bd1e11c button.colab-df-convert');\n",
              "        buttonEl.style.display =\n",
              "          google.colab.kernel.accessAllowed ? 'block' : 'none';\n",
              "\n",
              "        async function convertToInteractive(key) {\n",
              "          const element = document.querySelector('#df-3b832773-58b5-4fe6-ac5a-3cdd4bd1e11c');\n",
              "          const dataTable =\n",
              "            await google.colab.kernel.invokeFunction('convertToInteractive',\n",
              "                                                     [key], {});\n",
              "          if (!dataTable) return;\n",
              "\n",
              "          const docLinkHtml = 'Like what you see? Visit the ' +\n",
              "            '<a target=\"_blank\" href=https://colab.research.google.com/notebooks/data_table.ipynb>data table notebook</a>'\n",
              "            + ' to learn more about interactive tables.';\n",
              "          element.innerHTML = '';\n",
              "          dataTable['output_type'] = 'display_data';\n",
              "          await google.colab.output.renderOutput(dataTable, element);\n",
              "          const docLink = document.createElement('div');\n",
              "          docLink.innerHTML = docLinkHtml;\n",
              "          element.appendChild(docLink);\n",
              "        }\n",
              "      </script>\n",
              "    </div>\n",
              "  </div>\n",
              "  "
            ]
          },
          "metadata": {},
          "execution_count": 83
        }
      ]
    },
    {
      "cell_type": "markdown",
      "source": [
        "## 월별 시간대"
      ],
      "metadata": {
        "id": "SaF4I2GPo-ES"
      }
    },
    {
      "cell_type": "code",
      "source": [
        "sns.countplot(x = 'MONTH', data = data, hue=\"HOUR_CAT\")\n",
        "plt.title('월 별 시간대 사고 발생 건수')\n",
        "plt.xlabel('월')\n",
        "plt.legend(loc = 2, bbox_to_anchor = (1,1))\n",
        "plt.show()"
      ],
      "metadata": {
        "colab": {
          "base_uri": "https://localhost:8080/",
          "height": 301
        },
        "id": "KWPqQAVco25N",
        "outputId": "f651d68c-82cf-4199-fc20-547528d55688"
      },
      "execution_count": null,
      "outputs": [
        {
          "output_type": "display_data",
          "data": {
            "text/plain": [
              "<Figure size 432x288 with 1 Axes>"
            ],
            "image/png": "[encoded data removed]"
          },
          "metadata": {}
        }
      ]
    },
    {
      "cell_type": "code",
      "source": [
        "pd.crosstab(data[\"HOUR_CAT\"],data[\"MONTH\"])"
      ],
      "metadata": {
        "colab": {
          "base_uri": "https://localhost:8080/",
          "height": 238
        },
        "id": "RaROHqF2pE2i",
        "outputId": "747be3f0-dc33-4735-e6ac-2e8ec0decd83"
      },
      "execution_count": null,
      "outputs": [
        {
          "output_type": "execute_result",
          "data": {
            "text/plain": [
              "MONTH        1      2      3      4      5      6      7      8      9   \\\n",
              "HOUR_CAT                                                                  \n",
              "AFTE      14670  11099  11879  12824  14509  14112  14666  15144  16134   \n",
              "DAWN       2947   2362   3000   3431   4531   4302   4449   3839   3960   \n",
              "EVEN       8471   6264   6658   7325   8153   7976   8435   8468   9349   \n",
              "MORN       3195   2247   2760   2887   3307   3524   3682   3216   3698   \n",
              "NIGH       4763   3842   4398   4655   4916   5243   5348   5398   5616   \n",
              "\n",
              "MONTH        10     11     12  \n",
              "HOUR_CAT                       \n",
              "AFTE      15911  13578  12472  \n",
              "DAWN       3831   3480   2907  \n",
              "EVEN       9665   8557   7568  \n",
              "MORN       3455   3251   3347  \n",
              "NIGH       5365   4204   4272  "
            ],
            "text/html": [
              "\n",
              "  <div id=\"df-132591d6-40e3-4029-bdce-08c653b05514\">\n",
              "    <div class=\"colab-df-container\">\n",
              "      <div>\n",
              "<style scoped>\n",
              "    .dataframe tbody tr th:only-of-type {\n",
              "        vertical-align: middle;\n",
              "    }\n",
              "\n",
              "    .dataframe tbody tr th {\n",
              "        vertical-align: top;\n",
              "    }\n",
              "\n",
              "    .dataframe thead th {\n",
              "        text-align: right;\n",
              "    }\n",
              "</style>\n",
              "<table border=\"1\" class=\"dataframe\">\n",
              "  <thead>\n",
              "    <tr style=\"text-align: right;\">\n",
              "      <th>MONTH</th>\n",
              "      <th>1</th>\n",
              "      <th>2</th>\n",
              "      <th>3</th>\n",
              "      <th>4</th>\n",
              "      <th>5</th>\n",
              "      <th>6</th>\n",
              "      <th>7</th>\n",
              "      <th>8</th>\n",
              "      <th>9</th>\n",
              "      <th>10</th>\n",
              "      <th>11</th>\n",
              "      <th>12</th>\n",
              "    </tr>\n",
              "    <tr>\n",
              "      <th>HOUR_CAT</th>\n",
              "      <th></th>\n",
              "      <th></th>\n",
              "      <th></th>\n",
              "      <th></th>\n",
              "      <th></th>\n",
              "      <th></th>\n",
              "      <th></th>\n",
              "      <th></th>\n",
              "      <th></th>\n",
              "      <th></th>\n",
              "      <th></th>\n",
              "      <th></th>\n",
              "    </tr>\n",
              "  </thead>\n",
              "  <tbody>\n",
              "    <tr>\n",
              "      <th>AFTE</th>\n",
              "      <td>14670</td>\n",
              "      <td>11099</td>\n",
              "      <td>11879</td>\n",
              "      <td>12824</td>\n",
              "      <td>14509</td>\n",
              "      <td>14112</td>\n",
              "      <td>14666</td>\n",
              "      <td>15144</td>\n",
              "      <td>16134</td>\n",
              "      <td>15911</td>\n",
              "      <td>13578</td>\n",
              "      <td>12472</td>\n",
              "    </tr>\n",
              "    <tr>\n",
              "      <th>DAWN</th>\n",
              "      <td>2947</td>\n",
              "      <td>2362</td>\n",
              "      <td>3000</td>\n",
              "      <td>3431</td>\n",
              "      <td>4531</td>\n",
              "      <td>4302</td>\n",
              "      <td>4449</td>\n",
              "      <td>3839</td>\n",
              "      <td>3960</td>\n",
              "      <td>3831</td>\n",
              "      <td>3480</td>\n",
              "      <td>2907</td>\n",
              "    </tr>\n",
              "    <tr>\n",
              "      <th>EVEN</th>\n",
              "      <td>8471</td>\n",
              "      <td>6264</td>\n",
              "      <td>6658</td>\n",
              "      <td>7325</td>\n",
              "      <td>8153</td>\n",
              "      <td>7976</td>\n",
              "      <td>8435</td>\n",
              "      <td>8468</td>\n",
              "      <td>9349</td>\n",
              "      <td>9665</td>\n",
              "      <td>8557</td>\n",
              "      <td>7568</td>\n",
              "    </tr>\n",
              "    <tr>\n",
              "      <th>MORN</th>\n",
              "      <td>3195</td>\n",
              "      <td>2247</td>\n",
              "      <td>2760</td>\n",
              "      <td>2887</td>\n",
              "      <td>3307</td>\n",
              "      <td>3524</td>\n",
              "      <td>3682</td>\n",
              "      <td>3216</td>\n",
              "      <td>3698</td>\n",
              "      <td>3455</td>\n",
              "      <td>3251</td>\n",
              "      <td>3347</td>\n",
              "    </tr>\n",
              "    <tr>\n",
              "      <th>NIGH</th>\n",
              "      <td>4763</td>\n",
              "      <td>3842</td>\n",
              "      <td>4398</td>\n",
              "      <td>4655</td>\n",
              "      <td>4916</td>\n",
              "      <td>5243</td>\n",
              "      <td>5348</td>\n",
              "      <td>5398</td>\n",
              "      <td>5616</td>\n",
              "      <td>5365</td>\n",
              "      <td>4204</td>\n",
              "      <td>4272</td>\n",
              "    </tr>\n",
              "  </tbody>\n",
              "</table>\n",
              "</div>\n",
              "      <button class=\"colab-df-convert\" onclick=\"convertToInteractive('df-132591d6-40e3-4029-bdce-08c653b05514')\"\n",
              "              title=\"Convert this dataframe to an interactive table.\"\n",
              "              style=\"display:none;\">\n",
              "        \n",
              "  <svg xmlns=\"http://www.w3.org/2000/svg\" height=\"24px\"viewBox=\"0 0 24 24\"\n",
              "       width=\"24px\">\n",
              "    <path d=\"M0 0h24v24H0V0z\" fill=\"none\"/>\n",
              "    <path d=\"M18.56 5.44l.94 2.06.94-2.06 2.06-.94-2.06-.94-.94-2.06-.94 2.06-2.06.94zm-11 1L8.5 8.5l.94-2.06 2.06-.94-2.06-.94L8.5 2.5l-.94 2.06-2.06.94zm10 10l.94 2.06.94-2.06 2.06-.94-2.06-.94-.94-2.06-.94 2.06-2.06.94z\"/><path d=\"M17.41 7.96l-1.37-1.37c-.4-.4-.92-.59-1.43-.59-.52 0-1.04.2-1.43.59L10.3 9.45l-7.72 7.72c-.78.78-.78 2.05 0 2.83L4 21.41c.39.39.9.59 1.41.59.51 0 1.02-.2 1.41-.59l7.78-7.78 2.81-2.81c.8-.78.8-2.07 0-2.86zM5.41 20L4 18.59l7.72-7.72 1.47 1.35L5.41 20z\"/>\n",
              "  </svg>\n",
              "      </button>\n",
              "      \n",
              "  <style>\n",
              "    .colab-df-container {\n",
              "      display:flex;\n",
              "      flex-wrap:wrap;\n",
              "      gap: 12px;\n",
              "    }\n",
              "\n",
              "    .colab-df-convert {\n",
              "      background-color: #E8F0FE;\n",
              "      border: none;\n",
              "      border-radius: 50%;\n",
              "      cursor: pointer;\n",
              "      display: none;\n",
              "      fill: #1967D2;\n",
              "      height: 32px;\n",
              "      padding: 0 0 0 0;\n",
              "      width: 32px;\n",
              "    }\n",
              "\n",
              "    .colab-df-convert:hover {\n",
              "      background-color: #E2EBFA;\n",
              "      box-shadow: 0px 1px 2px rgba(60, 64, 67, 0.3), 0px 1px 3px 1px rgba(60, 64, 67, 0.15);\n",
              "      fill: #174EA6;\n",
              "    }\n",
              "\n",
              "    [theme=dark] .colab-df-convert {\n",
              "      background-color: #3B4455;\n",
              "      fill: #D2E3FC;\n",
              "    }\n",
              "\n",
              "    [theme=dark] .colab-df-convert:hover {\n",
              "      background-color: #434B5C;\n",
              "      box-shadow: 0px 1px 3px 1px rgba(0, 0, 0, 0.15);\n",
              "      filter: drop-shadow(0px 1px 2px rgba(0, 0, 0, 0.3));\n",
              "      fill: #FFFFFF;\n",
              "    }\n",
              "  </style>\n",
              "\n",
              "      <script>\n",
              "        const buttonEl =\n",
              "          document.querySelector('#df-132591d6-40e3-4029-bdce-08c653b05514 button.colab-df-convert');\n",
              "        buttonEl.style.display =\n",
              "          google.colab.kernel.accessAllowed ? 'block' : 'none';\n",
              "\n",
              "        async function convertToInteractive(key) {\n",
              "          const element = document.querySelector('#df-132591d6-40e3-4029-bdce-08c653b05514');\n",
              "          const dataTable =\n",
              "            await google.colab.kernel.invokeFunction('convertToInteractive',\n",
              "                                                     [key], {});\n",
              "          if (!dataTable) return;\n",
              "\n",
              "          const docLinkHtml = 'Like what you see? Visit the ' +\n",
              "            '<a target=\"_blank\" href=https://colab.research.google.com/notebooks/data_table.ipynb>data table notebook</a>'\n",
              "            + ' to learn more about interactive tables.';\n",
              "          element.innerHTML = '';\n",
              "          dataTable['output_type'] = 'display_data';\n",
              "          await google.colab.output.renderOutput(dataTable, element);\n",
              "          const docLink = document.createElement('div');\n",
              "          docLink.innerHTML = docLinkHtml;\n",
              "          element.appendChild(docLink);\n",
              "        }\n",
              "      </script>\n",
              "    </div>\n",
              "  </div>\n",
              "  "
            ]
          },
          "metadata": {},
          "execution_count": 85
        }
      ]
    },
    {
      "cell_type": "markdown",
      "source": [
        "## 유형별 계절"
      ],
      "metadata": {
        "id": "3MIq8VzKpLL9"
      }
    },
    {
      "cell_type": "code",
      "source": [
        "sns.countplot(x = 'EVT_CL_CD', data = data, hue=\"SEASON\")\n",
        "plt.title('유형 별 계절 사고 발생 건수')\n",
        "plt.xlabel('유형')\n",
        "plt.legend(loc = 2, bbox_to_anchor = (1,1))\n",
        "plt.show()"
      ],
      "metadata": {
        "colab": {
          "base_uri": "https://localhost:8080/",
          "height": 301
        },
        "id": "iteo9eQVpKDs",
        "outputId": "019f46e4-f24b-4a39-a3f7-0fe847d58aec"
      },
      "execution_count": null,
      "outputs": [
        {
          "output_type": "display_data",
          "data": {
            "text/plain": [
              "<Figure size 432x288 with 1 Axes>"
            ],
            "image/png": "[encoded data removed]"
          },
          "metadata": {}
        }
      ]
    },
    {
      "cell_type": "code",
      "source": [
        "pd.crosstab(data[\"SEASON\"],data[\"EVT_CL_CD\"])"
      ],
      "metadata": {
        "colab": {
          "base_uri": "https://localhost:8080/",
          "height": 206
        },
        "id": "NFot40zYpvFv",
        "outputId": "ee57fb9a-65d3-48cc-d78c-ee670c42cfe2"
      },
      "execution_count": null,
      "outputs": [
        {
          "output_type": "execute_result",
          "data": {
            "text/plain": [
              "EVT_CL_CD    401    402   403  404  405    406\n",
              "SEASON                                        \n",
              "FALL       66930  15358  9424    5    9  18328\n",
              "SPRING     58327  12919  8075    3   13  15896\n",
              "SUMMER     65630  15121  9122    6   12  17911\n",
              "WINTER     58349  12619  6497    6   12  12943"
            ],
            "text/html": [
              "\n",
              "  <div id=\"df-5f4ca827-bad5-48b4-b58e-b234f034ccbc\">\n",
              "    <div class=\"colab-df-container\">\n",
              "      <div>\n",
              "<style scoped>\n",
              "    .dataframe tbody tr th:only-of-type {\n",
              "        vertical-align: middle;\n",
              "    }\n",
              "\n",
              "    .dataframe tbody tr th {\n",
              "        vertical-align: top;\n",
              "    }\n",
              "\n",
              "    .dataframe thead th {\n",
              "        text-align: right;\n",
              "    }\n",
              "</style>\n",
              "<table border=\"1\" class=\"dataframe\">\n",
              "  <thead>\n",
              "    <tr style=\"text-align: right;\">\n",
              "      <th>EVT_CL_CD</th>\n",
              "      <th>401</th>\n",
              "      <th>402</th>\n",
              "      <th>403</th>\n",
              "      <th>404</th>\n",
              "      <th>405</th>\n",
              "      <th>406</th>\n",
              "    </tr>\n",
              "    <tr>\n",
              "      <th>SEASON</th>\n",
              "      <th></th>\n",
              "      <th></th>\n",
              "      <th></th>\n",
              "      <th></th>\n",
              "      <th></th>\n",
              "      <th></th>\n",
              "    </tr>\n",
              "  </thead>\n",
              "  <tbody>\n",
              "    <tr>\n",
              "      <th>FALL</th>\n",
              "      <td>66930</td>\n",
              "      <td>15358</td>\n",
              "      <td>9424</td>\n",
              "      <td>5</td>\n",
              "      <td>9</td>\n",
              "      <td>18328</td>\n",
              "    </tr>\n",
              "    <tr>\n",
              "      <th>SPRING</th>\n",
              "      <td>58327</td>\n",
              "      <td>12919</td>\n",
              "      <td>8075</td>\n",
              "      <td>3</td>\n",
              "      <td>13</td>\n",
              "      <td>15896</td>\n",
              "    </tr>\n",
              "    <tr>\n",
              "      <th>SUMMER</th>\n",
              "      <td>65630</td>\n",
              "      <td>15121</td>\n",
              "      <td>9122</td>\n",
              "      <td>6</td>\n",
              "      <td>12</td>\n",
              "      <td>17911</td>\n",
              "    </tr>\n",
              "    <tr>\n",
              "      <th>WINTER</th>\n",
              "      <td>58349</td>\n",
              "      <td>12619</td>\n",
              "      <td>6497</td>\n",
              "      <td>6</td>\n",
              "      <td>12</td>\n",
              "      <td>12943</td>\n",
              "    </tr>\n",
              "  </tbody>\n",
              "</table>\n",
              "</div>\n",
              "      <button class=\"colab-df-convert\" onclick=\"convertToInteractive('df-5f4ca827-bad5-48b4-b58e-b234f034ccbc')\"\n",
              "              title=\"Convert this dataframe to an interactive table.\"\n",
              "              style=\"display:none;\">\n",
              "        \n",
              "  <svg xmlns=\"http://www.w3.org/2000/svg\" height=\"24px\"viewBox=\"0 0 24 24\"\n",
              "       width=\"24px\">\n",
              "    <path d=\"M0 0h24v24H0V0z\" fill=\"none\"/>\n",
              "    <path d=\"M18.56 5.44l.94 2.06.94-2.06 2.06-.94-2.06-.94-.94-2.06-.94 2.06-2.06.94zm-11 1L8.5 8.5l.94-2.06 2.06-.94-2.06-.94L8.5 2.5l-.94 2.06-2.06.94zm10 10l.94 2.06.94-2.06 2.06-.94-2.06-.94-.94-2.06-.94 2.06-2.06.94z\"/><path d=\"M17.41 7.96l-1.37-1.37c-.4-.4-.92-.59-1.43-.59-.52 0-1.04.2-1.43.59L10.3 9.45l-7.72 7.72c-.78.78-.78 2.05 0 2.83L4 21.41c.39.39.9.59 1.41.59.51 0 1.02-.2 1.41-.59l7.78-7.78 2.81-2.81c.8-.78.8-2.07 0-2.86zM5.41 20L4 18.59l7.72-7.72 1.47 1.35L5.41 20z\"/>\n",
              "  </svg>\n",
              "      </button>\n",
              "      \n",
              "  <style>\n",
              "    .colab-df-container {\n",
              "      display:flex;\n",
              "      flex-wrap:wrap;\n",
              "      gap: 12px;\n",
              "    }\n",
              "\n",
              "    .colab-df-convert {\n",
              "      background-color: #E8F0FE;\n",
              "      border: none;\n",
              "      border-radius: 50%;\n",
              "      cursor: pointer;\n",
              "      display: none;\n",
              "      fill: #1967D2;\n",
              "      height: 32px;\n",
              "      padding: 0 0 0 0;\n",
              "      width: 32px;\n",
              "    }\n",
              "\n",
              "    .colab-df-convert:hover {\n",
              "      background-color: #E2EBFA;\n",
              "      box-shadow: 0px 1px 2px rgba(60, 64, 67, 0.3), 0px 1px 3px 1px rgba(60, 64, 67, 0.15);\n",
              "      fill: #174EA6;\n",
              "    }\n",
              "\n",
              "    [theme=dark] .colab-df-convert {\n",
              "      background-color: #3B4455;\n",
              "      fill: #D2E3FC;\n",
              "    }\n",
              "\n",
              "    [theme=dark] .colab-df-convert:hover {\n",
              "      background-color: #434B5C;\n",
              "      box-shadow: 0px 1px 3px 1px rgba(0, 0, 0, 0.15);\n",
              "      filter: drop-shadow(0px 1px 2px rgba(0, 0, 0, 0.3));\n",
              "      fill: #FFFFFF;\n",
              "    }\n",
              "  </style>\n",
              "\n",
              "      <script>\n",
              "        const buttonEl =\n",
              "          document.querySelector('#df-5f4ca827-bad5-48b4-b58e-b234f034ccbc button.colab-df-convert');\n",
              "        buttonEl.style.display =\n",
              "          google.colab.kernel.accessAllowed ? 'block' : 'none';\n",
              "\n",
              "        async function convertToInteractive(key) {\n",
              "          const element = document.querySelector('#df-5f4ca827-bad5-48b4-b58e-b234f034ccbc');\n",
              "          const dataTable =\n",
              "            await google.colab.kernel.invokeFunction('convertToInteractive',\n",
              "                                                     [key], {});\n",
              "          if (!dataTable) return;\n",
              "\n",
              "          const docLinkHtml = 'Like what you see? Visit the ' +\n",
              "            '<a target=\"_blank\" href=https://colab.research.google.com/notebooks/data_table.ipynb>data table notebook</a>'\n",
              "            + ' to learn more about interactive tables.';\n",
              "          element.innerHTML = '';\n",
              "          dataTable['output_type'] = 'display_data';\n",
              "          await google.colab.output.renderOutput(dataTable, element);\n",
              "          const docLink = document.createElement('div');\n",
              "          docLink.innerHTML = docLinkHtml;\n",
              "          element.appendChild(docLink);\n",
              "        }\n",
              "      </script>\n",
              "    </div>\n",
              "  </div>\n",
              "  "
            ]
          },
          "metadata": {},
          "execution_count": 88
        }
      ]
    },
    {
      "cell_type": "markdown",
      "source": [
        "## 유형별 월"
      ],
      "metadata": {
        "id": "rTq4INNeqQn2"
      }
    },
    {
      "cell_type": "code",
      "source": [
        "sns.countplot(x = 'EVT_CL_CD', data = data, hue=\"MONTH\")\n",
        "plt.title('유형 별 월 사고 발생 건수')\n",
        "plt.xlabel('유형')\n",
        "plt.legend(loc = 2, bbox_to_anchor = (1,1))\n",
        "plt.show()"
      ],
      "metadata": {
        "colab": {
          "base_uri": "https://localhost:8080/",
          "height": 301
        },
        "id": "VG_jFQjNqOmh",
        "outputId": "f726cdc0-33b5-4e66-8443-a54210225ca2"
      },
      "execution_count": null,
      "outputs": [
        {
          "output_type": "display_data",
          "data": {
            "text/plain": [
              "<Figure size 432x288 with 1 Axes>"
            ],
            "image/png": "[encoded data removed]"
          },
          "metadata": {}
        }
      ]
    },
    {
      "cell_type": "code",
      "source": [
        "pd.crosstab(data[\"MONTH\"],data[\"EVT_CL_CD\"])"
      ],
      "metadata": {
        "colab": {
          "base_uri": "https://localhost:8080/",
          "height": 457
        },
        "id": "7vGgzL01qj-5",
        "outputId": "099f7c2f-2ddc-49d2-8696-50ba8caf259a"
      },
      "execution_count": null,
      "outputs": [
        {
          "output_type": "execute_result",
          "data": {
            "text/plain": [
              "EVT_CL_CD    401   402   403  404  405   406\n",
              "MONTH                                       \n",
              "1          22386  4491  2611    1    6  4551\n",
              "2          16765  3488  2072    1    3  3485\n",
              "3          17885  3814  2379    0    6  4611\n",
              "4          19062  4271  2635    2    2  5150\n",
              "5          21380  4834  3061    1    5  6135\n",
              "6          21252  4906  3015    2    5  5977\n",
              "7          22397  5048  3045    3    3  6084\n",
              "8          21981  5167  3062    1    4  5850\n",
              "9          23180  5396  3745    1    0  6435\n",
              "10         23266  5287  3225    0    5  6444\n",
              "11         20484  4675  2454    4    4  5449\n",
              "12         19198  4640  1814    4    3  4907"
            ],
            "text/html": [
              "\n",
              "  <div id=\"df-a0e09710-a737-4f75-9451-fb84fae7742b\">\n",
              "    <div class=\"colab-df-container\">\n",
              "      <div>\n",
              "<style scoped>\n",
              "    .dataframe tbody tr th:only-of-type {\n",
              "        vertical-align: middle;\n",
              "    }\n",
              "\n",
              "    .dataframe tbody tr th {\n",
              "        vertical-align: top;\n",
              "    }\n",
              "\n",
              "    .dataframe thead th {\n",
              "        text-align: right;\n",
              "    }\n",
              "</style>\n",
              "<table border=\"1\" class=\"dataframe\">\n",
              "  <thead>\n",
              "    <tr style=\"text-align: right;\">\n",
              "      <th>EVT_CL_CD</th>\n",
              "      <th>401</th>\n",
              "      <th>402</th>\n",
              "      <th>403</th>\n",
              "      <th>404</th>\n",
              "      <th>405</th>\n",
              "      <th>406</th>\n",
              "    </tr>\n",
              "    <tr>\n",
              "      <th>MONTH</th>\n",
              "      <th></th>\n",
              "      <th></th>\n",
              "      <th></th>\n",
              "      <th></th>\n",
              "      <th></th>\n",
              "      <th></th>\n",
              "    </tr>\n",
              "  </thead>\n",
              "  <tbody>\n",
              "    <tr>\n",
              "      <th>1</th>\n",
              "      <td>22386</td>\n",
              "      <td>4491</td>\n",
              "      <td>2611</td>\n",
              "      <td>1</td>\n",
              "      <td>6</td>\n",
              "      <td>4551</td>\n",
              "    </tr>\n",
              "    <tr>\n",
              "      <th>2</th>\n",
              "      <td>16765</td>\n",
              "      <td>3488</td>\n",
              "      <td>2072</td>\n",
              "      <td>1</td>\n",
              "      <td>3</td>\n",
              "      <td>3485</td>\n",
              "    </tr>\n",
              "    <tr>\n",
              "      <th>3</th>\n",
              "      <td>17885</td>\n",
              "      <td>3814</td>\n",
              "      <td>2379</td>\n",
              "      <td>0</td>\n",
              "      <td>6</td>\n",
              "      <td>4611</td>\n",
              "    </tr>\n",
              "    <tr>\n",
              "      <th>4</th>\n",
              "      <td>19062</td>\n",
              "      <td>4271</td>\n",
              "      <td>2635</td>\n",
              "      <td>2</td>\n",
              "      <td>2</td>\n",
              "      <td>5150</td>\n",
              "    </tr>\n",
              "    <tr>\n",
              "      <th>5</th>\n",
              "      <td>21380</td>\n",
              "      <td>4834</td>\n",
              "      <td>3061</td>\n",
              "      <td>1</td>\n",
              "      <td>5</td>\n",
              "      <td>6135</td>\n",
              "    </tr>\n",
              "    <tr>\n",
              "      <th>6</th>\n",
              "      <td>21252</td>\n",
              "      <td>4906</td>\n",
              "      <td>3015</td>\n",
              "      <td>2</td>\n",
              "      <td>5</td>\n",
              "      <td>5977</td>\n",
              "    </tr>\n",
              "    <tr>\n",
              "      <th>7</th>\n",
              "      <td>22397</td>\n",
              "      <td>5048</td>\n",
              "      <td>3045</td>\n",
              "      <td>3</td>\n",
              "      <td>3</td>\n",
              "      <td>6084</td>\n",
              "    </tr>\n",
              "    <tr>\n",
              "      <th>8</th>\n",
              "      <td>21981</td>\n",
              "      <td>5167</td>\n",
              "      <td>3062</td>\n",
              "      <td>1</td>\n",
              "      <td>4</td>\n",
              "      <td>5850</td>\n",
              "    </tr>\n",
              "    <tr>\n",
              "      <th>9</th>\n",
              "      <td>23180</td>\n",
              "      <td>5396</td>\n",
              "      <td>3745</td>\n",
              "      <td>1</td>\n",
              "      <td>0</td>\n",
              "      <td>6435</td>\n",
              "    </tr>\n",
              "    <tr>\n",
              "      <th>10</th>\n",
              "      <td>23266</td>\n",
              "      <td>5287</td>\n",
              "      <td>3225</td>\n",
              "      <td>0</td>\n",
              "      <td>5</td>\n",
              "      <td>6444</td>\n",
              "    </tr>\n",
              "    <tr>\n",
              "      <th>11</th>\n",
              "      <td>20484</td>\n",
              "      <td>4675</td>\n",
              "      <td>2454</td>\n",
              "      <td>4</td>\n",
              "      <td>4</td>\n",
              "      <td>5449</td>\n",
              "    </tr>\n",
              "    <tr>\n",
              "      <th>12</th>\n",
              "      <td>19198</td>\n",
              "      <td>4640</td>\n",
              "      <td>1814</td>\n",
              "      <td>4</td>\n",
              "      <td>3</td>\n",
              "      <td>4907</td>\n",
              "    </tr>\n",
              "  </tbody>\n",
              "</table>\n",
              "</div>\n",
              "      <button class=\"colab-df-convert\" onclick=\"convertToInteractive('df-a0e09710-a737-4f75-9451-fb84fae7742b')\"\n",
              "              title=\"Convert this dataframe to an interactive table.\"\n",
              "              style=\"display:none;\">\n",
              "        \n",
              "  <svg xmlns=\"http://www.w3.org/2000/svg\" height=\"24px\"viewBox=\"0 0 24 24\"\n",
              "       width=\"24px\">\n",
              "    <path d=\"M0 0h24v24H0V0z\" fill=\"none\"/>\n",
              "    <path d=\"M18.56 5.44l.94 2.06.94-2.06 2.06-.94-2.06-.94-.94-2.06-.94 2.06-2.06.94zm-11 1L8.5 8.5l.94-2.06 2.06-.94-2.06-.94L8.5 2.5l-.94 2.06-2.06.94zm10 10l.94 2.06.94-2.06 2.06-.94-2.06-.94-.94-2.06-.94 2.06-2.06.94z\"/><path d=\"M17.41 7.96l-1.37-1.37c-.4-.4-.92-.59-1.43-.59-.52 0-1.04.2-1.43.59L10.3 9.45l-7.72 7.72c-.78.78-.78 2.05 0 2.83L4 21.41c.39.39.9.59 1.41.59.51 0 1.02-.2 1.41-.59l7.78-7.78 2.81-2.81c.8-.78.8-2.07 0-2.86zM5.41 20L4 18.59l7.72-7.72 1.47 1.35L5.41 20z\"/>\n",
              "  </svg>\n",
              "      </button>\n",
              "      \n",
              "  <style>\n",
              "    .colab-df-container {\n",
              "      display:flex;\n",
              "      flex-wrap:wrap;\n",
              "      gap: 12px;\n",
              "    }\n",
              "\n",
              "    .colab-df-convert {\n",
              "      background-color: #E8F0FE;\n",
              "      border: none;\n",
              "      border-radius: 50%;\n",
              "      cursor: pointer;\n",
              "      display: none;\n",
              "      fill: #1967D2;\n",
              "      height: 32px;\n",
              "      padding: 0 0 0 0;\n",
              "      width: 32px;\n",
              "    }\n",
              "\n",
              "    .colab-df-convert:hover {\n",
              "      background-color: #E2EBFA;\n",
              "      box-shadow: 0px 1px 2px rgba(60, 64, 67, 0.3), 0px 1px 3px 1px rgba(60, 64, 67, 0.15);\n",
              "      fill: #174EA6;\n",
              "    }\n",
              "\n",
              "    [theme=dark] .colab-df-convert {\n",
              "      background-color: #3B4455;\n",
              "      fill: #D2E3FC;\n",
              "    }\n",
              "\n",
              "    [theme=dark] .colab-df-convert:hover {\n",
              "      background-color: #434B5C;\n",
              "      box-shadow: 0px 1px 3px 1px rgba(0, 0, 0, 0.15);\n",
              "      filter: drop-shadow(0px 1px 2px rgba(0, 0, 0, 0.3));\n",
              "      fill: #FFFFFF;\n",
              "    }\n",
              "  </style>\n",
              "\n",
              "      <script>\n",
              "        const buttonEl =\n",
              "          document.querySelector('#df-a0e09710-a737-4f75-9451-fb84fae7742b button.colab-df-convert');\n",
              "        buttonEl.style.display =\n",
              "          google.colab.kernel.accessAllowed ? 'block' : 'none';\n",
              "\n",
              "        async function convertToInteractive(key) {\n",
              "          const element = document.querySelector('#df-a0e09710-a737-4f75-9451-fb84fae7742b');\n",
              "          const dataTable =\n",
              "            await google.colab.kernel.invokeFunction('convertToInteractive',\n",
              "                                                     [key], {});\n",
              "          if (!dataTable) return;\n",
              "\n",
              "          const docLinkHtml = 'Like what you see? Visit the ' +\n",
              "            '<a target=\"_blank\" href=https://colab.research.google.com/notebooks/data_table.ipynb>data table notebook</a>'\n",
              "            + ' to learn more about interactive tables.';\n",
              "          element.innerHTML = '';\n",
              "          dataTable['output_type'] = 'display_data';\n",
              "          await google.colab.output.renderOutput(dataTable, element);\n",
              "          const docLink = document.createElement('div');\n",
              "          docLink.innerHTML = docLinkHtml;\n",
              "          element.appendChild(docLink);\n",
              "        }\n",
              "      </script>\n",
              "    </div>\n",
              "  </div>\n",
              "  "
            ]
          },
          "metadata": {},
          "execution_count": 92
        }
      ]
    },
    {
      "cell_type": "markdown",
      "source": [
        "## 유형별 시간대\n",
        "- 401 : 교통사고\n",
        "- 402 : 교통불편\n",
        "- 403 : 교통위반\n",
        "- 404 : 사망/대형사고\n",
        "- 405 : 인피도주\n",
        "- 406 : 음주운전"
      ],
      "metadata": {
        "id": "5E9kTEbqp-FG"
      }
    },
    {
      "cell_type": "markdown",
      "source": [
        "**이게 의미있어보임**\n",
        "- 401 : 교통사고 : 오후, 저녁, 밤 순서\n",
        "- 402 : 교통불편 : 오후, 저녁, 아침 순서\n",
        "- 403 : 교통위반 : 오후, 저녁, 밤 순서\n",
        "- 404 : 사망/대형사고 : 오후, 밤, 저녁 순서\n",
        "- 405 : 인피도주 : 새벽, 저녁, 오후 순서\n",
        "- 406 : 음주운전 : 밤, 새벽, 저녁 순서"
      ],
      "metadata": {
        "id": "0gPhBk1PRX_V"
      }
    },
    {
      "cell_type": "code",
      "source": [
        "sns.countplot(x = 'EVT_CL_CD', data = data, hue=\"HOUR_CAT\")\n",
        "plt.title('유형 별 시간대 사고 발생 건수')\n",
        "plt.xlabel('유형')\n",
        "plt.legend(loc = 2, bbox_to_anchor = (1,1))\n",
        "plt.show()"
      ],
      "metadata": {
        "colab": {
          "base_uri": "https://localhost:8080/",
          "height": 301
        },
        "id": "7EnlA67Tp85M",
        "outputId": "6dd5c92e-2354-4039-d5cf-3b618e4aab54"
      },
      "execution_count": null,
      "outputs": [
        {
          "output_type": "display_data",
          "data": {
            "text/plain": [
              "<Figure size 432x288 with 1 Axes>"
            ],
            "image/png": "[encoded data removed]"
          },
          "metadata": {}
        }
      ]
    },
    {
      "cell_type": "code",
      "source": [
        "pd.crosstab(data[\"HOUR_CAT\"],data[\"EVT_CL_CD\"])"
      ],
      "metadata": {
        "colab": {
          "base_uri": "https://localhost:8080/",
          "height": 238
        },
        "id": "RDIxx3ACqJs9",
        "outputId": "f9c46c01-bc70-4a1d-c729-f76ca78d0f25"
      },
      "execution_count": null,
      "outputs": [
        {
          "output_type": "execute_result",
          "data": {
            "text/plain": [
              "EVT_CL_CD     401    402    403  404  405    406\n",
              "HOUR_CAT                                        \n",
              "AFTE       118693  27199  13015    8   10   8073\n",
              "DAWN        16601   2055   3910    1   13  20459\n",
              "EVEN        63116  13666   8421    4   12  11670\n",
              "MORN        23303   8616   2458    2    2   4188\n",
              "NIGH        27523   4481   5314    5    9  20688"
            ],
            "text/html": [
              "\n",
              "  <div id=\"df-025a0db2-163c-432a-b5dc-d4eb021ddf52\">\n",
              "    <div class=\"colab-df-container\">\n",
              "      <div>\n",
              "<style scoped>\n",
              "    .dataframe tbody tr th:only-of-type {\n",
              "        vertical-align: middle;\n",
              "    }\n",
              "\n",
              "    .dataframe tbody tr th {\n",
              "        vertical-align: top;\n",
              "    }\n",
              "\n",
              "    .dataframe thead th {\n",
              "        text-align: right;\n",
              "    }\n",
              "</style>\n",
              "<table border=\"1\" class=\"dataframe\">\n",
              "  <thead>\n",
              "    <tr style=\"text-align: right;\">\n",
              "      <th>EVT_CL_CD</th>\n",
              "      <th>401</th>\n",
              "      <th>402</th>\n",
              "      <th>403</th>\n",
              "      <th>404</th>\n",
              "      <th>405</th>\n",
              "      <th>406</th>\n",
              "    </tr>\n",
              "    <tr>\n",
              "      <th>HOUR_CAT</th>\n",
              "      <th></th>\n",
              "      <th></th>\n",
              "      <th></th>\n",
              "      <th></th>\n",
              "      <th></th>\n",
              "      <th></th>\n",
              "    </tr>\n",
              "  </thead>\n",
              "  <tbody>\n",
              "    <tr>\n",
              "      <th>AFTE</th>\n",
              "      <td>118693</td>\n",
              "      <td>27199</td>\n",
              "      <td>13015</td>\n",
              "      <td>8</td>\n",
              "      <td>10</td>\n",
              "      <td>8073</td>\n",
              "    </tr>\n",
              "    <tr>\n",
              "      <th>DAWN</th>\n",
              "      <td>16601</td>\n",
              "      <td>2055</td>\n",
              "      <td>3910</td>\n",
              "      <td>1</td>\n",
              "      <td>13</td>\n",
              "      <td>20459</td>\n",
              "    </tr>\n",
              "    <tr>\n",
              "      <th>EVEN</th>\n",
              "      <td>63116</td>\n",
              "      <td>13666</td>\n",
              "      <td>8421</td>\n",
              "      <td>4</td>\n",
              "      <td>12</td>\n",
              "      <td>11670</td>\n",
              "    </tr>\n",
              "    <tr>\n",
              "      <th>MORN</th>\n",
              "      <td>23303</td>\n",
              "      <td>8616</td>\n",
              "      <td>2458</td>\n",
              "      <td>2</td>\n",
              "      <td>2</td>\n",
              "      <td>4188</td>\n",
              "    </tr>\n",
              "    <tr>\n",
              "      <th>NIGH</th>\n",
              "      <td>27523</td>\n",
              "      <td>4481</td>\n",
              "      <td>5314</td>\n",
              "      <td>5</td>\n",
              "      <td>9</td>\n",
              "      <td>20688</td>\n",
              "    </tr>\n",
              "  </tbody>\n",
              "</table>\n",
              "</div>\n",
              "      <button class=\"colab-df-convert\" onclick=\"convertToInteractive('df-025a0db2-163c-432a-b5dc-d4eb021ddf52')\"\n",
              "              title=\"Convert this dataframe to an interactive table.\"\n",
              "              style=\"display:none;\">\n",
              "        \n",
              "  <svg xmlns=\"http://www.w3.org/2000/svg\" height=\"24px\"viewBox=\"0 0 24 24\"\n",
              "       width=\"24px\">\n",
              "    <path d=\"M0 0h24v24H0V0z\" fill=\"none\"/>\n",
              "    <path d=\"M18.56 5.44l.94 2.06.94-2.06 2.06-.94-2.06-.94-.94-2.06-.94 2.06-2.06.94zm-11 1L8.5 8.5l.94-2.06 2.06-.94-2.06-.94L8.5 2.5l-.94 2.06-2.06.94zm10 10l.94 2.06.94-2.06 2.06-.94-2.06-.94-.94-2.06-.94 2.06-2.06.94z\"/><path d=\"M17.41 7.96l-1.37-1.37c-.4-.4-.92-.59-1.43-.59-.52 0-1.04.2-1.43.59L10.3 9.45l-7.72 7.72c-.78.78-.78 2.05 0 2.83L4 21.41c.39.39.9.59 1.41.59.51 0 1.02-.2 1.41-.59l7.78-7.78 2.81-2.81c.8-.78.8-2.07 0-2.86zM5.41 20L4 18.59l7.72-7.72 1.47 1.35L5.41 20z\"/>\n",
              "  </svg>\n",
              "      </button>\n",
              "      \n",
              "  <style>\n",
              "    .colab-df-container {\n",
              "      display:flex;\n",
              "      flex-wrap:wrap;\n",
              "      gap: 12px;\n",
              "    }\n",
              "\n",
              "    .colab-df-convert {\n",
              "      background-color: #E8F0FE;\n",
              "      border: none;\n",
              "      border-radius: 50%;\n",
              "      cursor: pointer;\n",
              "      display: none;\n",
              "      fill: #1967D2;\n",
              "      height: 32px;\n",
              "      padding: 0 0 0 0;\n",
              "      width: 32px;\n",
              "    }\n",
              "\n",
              "    .colab-df-convert:hover {\n",
              "      background-color: #E2EBFA;\n",
              "      box-shadow: 0px 1px 2px rgba(60, 64, 67, 0.3), 0px 1px 3px 1px rgba(60, 64, 67, 0.15);\n",
              "      fill: #174EA6;\n",
              "    }\n",
              "\n",
              "    [theme=dark] .colab-df-convert {\n",
              "      background-color: #3B4455;\n",
              "      fill: #D2E3FC;\n",
              "    }\n",
              "\n",
              "    [theme=dark] .colab-df-convert:hover {\n",
              "      background-color: #434B5C;\n",
              "      box-shadow: 0px 1px 3px 1px rgba(0, 0, 0, 0.15);\n",
              "      filter: drop-shadow(0px 1px 2px rgba(0, 0, 0, 0.3));\n",
              "      fill: #FFFFFF;\n",
              "    }\n",
              "  </style>\n",
              "\n",
              "      <script>\n",
              "        const buttonEl =\n",
              "          document.querySelector('#df-025a0db2-163c-432a-b5dc-d4eb021ddf52 button.colab-df-convert');\n",
              "        buttonEl.style.display =\n",
              "          google.colab.kernel.accessAllowed ? 'block' : 'none';\n",
              "\n",
              "        async function convertToInteractive(key) {\n",
              "          const element = document.querySelector('#df-025a0db2-163c-432a-b5dc-d4eb021ddf52');\n",
              "          const dataTable =\n",
              "            await google.colab.kernel.invokeFunction('convertToInteractive',\n",
              "                                                     [key], {});\n",
              "          if (!dataTable) return;\n",
              "\n",
              "          const docLinkHtml = 'Like what you see? Visit the ' +\n",
              "            '<a target=\"_blank\" href=https://colab.research.google.com/notebooks/data_table.ipynb>data table notebook</a>'\n",
              "            + ' to learn more about interactive tables.';\n",
              "          element.innerHTML = '';\n",
              "          dataTable['output_type'] = 'display_data';\n",
              "          await google.colab.output.renderOutput(dataTable, element);\n",
              "          const docLink = document.createElement('div');\n",
              "          docLink.innerHTML = docLinkHtml;\n",
              "          element.appendChild(docLink);\n",
              "        }\n",
              "      </script>\n",
              "    </div>\n",
              "  </div>\n",
              "  "
            ]
          },
          "metadata": {},
          "execution_count": 90
        }
      ]
    },
    {
      "cell_type": "markdown",
      "source": [
        "## 유형별 성별"
      ],
      "metadata": {
        "id": "1tbpEx7sqvCX"
      }
    },
    {
      "cell_type": "code",
      "source": [
        "sns.countplot(x = 'EVT_CL_CD', data = data, hue=\"RPTER_SEX\")\n",
        "plt.title('유형 별 성별 사고 발생 건수')\n",
        "plt.xlabel('유형')\n",
        "plt.legend(loc = 2, bbox_to_anchor = (1,1))\n",
        "plt.show()"
      ],
      "metadata": {
        "id": "EAxT88bQqs7h",
        "colab": {
          "base_uri": "https://localhost:8080/",
          "height": 301
        },
        "outputId": "9b4efe3b-f603-41e1-fc45-9c816c37b1bb"
      },
      "execution_count": null,
      "outputs": [
        {
          "output_type": "display_data",
          "data": {
            "text/plain": [
              "<Figure size 432x288 with 1 Axes>"
            ],
            "image/png": "[encoded data removed]"
          },
          "metadata": {}
        }
      ]
    },
    {
      "cell_type": "code",
      "source": [
        "pd.crosstab(data[\"RPTER_SEX\"],data[\"EVT_CL_CD\"])"
      ],
      "metadata": {
        "colab": {
          "base_uri": "https://localhost:8080/",
          "height": 175
        },
        "id": "FC9G1sT5e1oV",
        "outputId": "5697cbcd-80f4-4561-a480-f36c39abfe7f"
      },
      "execution_count": null,
      "outputs": [
        {
          "output_type": "execute_result",
          "data": {
            "text/plain": [
              "EVT_CL_CD     401    402    403  404  405    406\n",
              "RPTER_SEX                                       \n",
              "1          171289  40346  24071    9   25  49968\n",
              "2           55539   9384   3666    5   15   8471\n",
              "3           22408   6287   5381    6    6   6639"
            ],
            "text/html": [
              "\n",
              "  <div id=\"df-47f0c9fb-1237-4e6c-ab08-057cbc3ab9db\">\n",
              "    <div class=\"colab-df-container\">\n",
              "      <div>\n",
              "<style scoped>\n",
              "    .dataframe tbody tr th:only-of-type {\n",
              "        vertical-align: middle;\n",
              "    }\n",
              "\n",
              "    .dataframe tbody tr th {\n",
              "        vertical-align: top;\n",
              "    }\n",
              "\n",
              "    .dataframe thead th {\n",
              "        text-align: right;\n",
              "    }\n",
              "</style>\n",
              "<table border=\"1\" class=\"dataframe\">\n",
              "  <thead>\n",
              "    <tr style=\"text-align: right;\">\n",
              "      <th>EVT_CL_CD</th>\n",
              "      <th>401</th>\n",
              "      <th>402</th>\n",
              "      <th>403</th>\n",
              "      <th>404</th>\n",
              "      <th>405</th>\n",
              "      <th>406</th>\n",
              "    </tr>\n",
              "    <tr>\n",
              "      <th>RPTER_SEX</th>\n",
              "      <th></th>\n",
              "      <th></th>\n",
              "      <th></th>\n",
              "      <th></th>\n",
              "      <th></th>\n",
              "      <th></th>\n",
              "    </tr>\n",
              "  </thead>\n",
              "  <tbody>\n",
              "    <tr>\n",
              "      <th>1</th>\n",
              "      <td>171289</td>\n",
              "      <td>40346</td>\n",
              "      <td>24071</td>\n",
              "      <td>9</td>\n",
              "      <td>25</td>\n",
              "      <td>49968</td>\n",
              "    </tr>\n",
              "    <tr>\n",
              "      <th>2</th>\n",
              "      <td>55539</td>\n",
              "      <td>9384</td>\n",
              "      <td>3666</td>\n",
              "      <td>5</td>\n",
              "      <td>15</td>\n",
              "      <td>8471</td>\n",
              "    </tr>\n",
              "    <tr>\n",
              "      <th>3</th>\n",
              "      <td>22408</td>\n",
              "      <td>6287</td>\n",
              "      <td>5381</td>\n",
              "      <td>6</td>\n",
              "      <td>6</td>\n",
              "      <td>6639</td>\n",
              "    </tr>\n",
              "  </tbody>\n",
              "</table>\n",
              "</div>\n",
              "      <button class=\"colab-df-convert\" onclick=\"convertToInteractive('df-47f0c9fb-1237-4e6c-ab08-057cbc3ab9db')\"\n",
              "              title=\"Convert this dataframe to an interactive table.\"\n",
              "              style=\"display:none;\">\n",
              "        \n",
              "  <svg xmlns=\"http://www.w3.org/2000/svg\" height=\"24px\"viewBox=\"0 0 24 24\"\n",
              "       width=\"24px\">\n",
              "    <path d=\"M0 0h24v24H0V0z\" fill=\"none\"/>\n",
              "    <path d=\"M18.56 5.44l.94 2.06.94-2.06 2.06-.94-2.06-.94-.94-2.06-.94 2.06-2.06.94zm-11 1L8.5 8.5l.94-2.06 2.06-.94-2.06-.94L8.5 2.5l-.94 2.06-2.06.94zm10 10l.94 2.06.94-2.06 2.06-.94-2.06-.94-.94-2.06-.94 2.06-2.06.94z\"/><path d=\"M17.41 7.96l-1.37-1.37c-.4-.4-.92-.59-1.43-.59-.52 0-1.04.2-1.43.59L10.3 9.45l-7.72 7.72c-.78.78-.78 2.05 0 2.83L4 21.41c.39.39.9.59 1.41.59.51 0 1.02-.2 1.41-.59l7.78-7.78 2.81-2.81c.8-.78.8-2.07 0-2.86zM5.41 20L4 18.59l7.72-7.72 1.47 1.35L5.41 20z\"/>\n",
              "  </svg>\n",
              "      </button>\n",
              "      \n",
              "  <style>\n",
              "    .colab-df-container {\n",
              "      display:flex;\n",
              "      flex-wrap:wrap;\n",
              "      gap: 12px;\n",
              "    }\n",
              "\n",
              "    .colab-df-convert {\n",
              "      background-color: #E8F0FE;\n",
              "      border: none;\n",
              "      border-radius: 50%;\n",
              "      cursor: pointer;\n",
              "      display: none;\n",
              "      fill: #1967D2;\n",
              "      height: 32px;\n",
              "      padding: 0 0 0 0;\n",
              "      width: 32px;\n",
              "    }\n",
              "\n",
              "    .colab-df-convert:hover {\n",
              "      background-color: #E2EBFA;\n",
              "      box-shadow: 0px 1px 2px rgba(60, 64, 67, 0.3), 0px 1px 3px 1px rgba(60, 64, 67, 0.15);\n",
              "      fill: #174EA6;\n",
              "    }\n",
              "\n",
              "    [theme=dark] .colab-df-convert {\n",
              "      background-color: #3B4455;\n",
              "      fill: #D2E3FC;\n",
              "    }\n",
              "\n",
              "    [theme=dark] .colab-df-convert:hover {\n",
              "      background-color: #434B5C;\n",
              "      box-shadow: 0px 1px 3px 1px rgba(0, 0, 0, 0.15);\n",
              "      filter: drop-shadow(0px 1px 2px rgba(0, 0, 0, 0.3));\n",
              "      fill: #FFFFFF;\n",
              "    }\n",
              "  </style>\n",
              "\n",
              "      <script>\n",
              "        const buttonEl =\n",
              "          document.querySelector('#df-47f0c9fb-1237-4e6c-ab08-057cbc3ab9db button.colab-df-convert');\n",
              "        buttonEl.style.display =\n",
              "          google.colab.kernel.accessAllowed ? 'block' : 'none';\n",
              "\n",
              "        async function convertToInteractive(key) {\n",
              "          const element = document.querySelector('#df-47f0c9fb-1237-4e6c-ab08-057cbc3ab9db');\n",
              "          const dataTable =\n",
              "            await google.colab.kernel.invokeFunction('convertToInteractive',\n",
              "                                                     [key], {});\n",
              "          if (!dataTable) return;\n",
              "\n",
              "          const docLinkHtml = 'Like what you see? Visit the ' +\n",
              "            '<a target=\"_blank\" href=https://colab.research.google.com/notebooks/data_table.ipynb>data table notebook</a>'\n",
              "            + ' to learn more about interactive tables.';\n",
              "          element.innerHTML = '';\n",
              "          dataTable['output_type'] = 'display_data';\n",
              "          await google.colab.output.renderOutput(dataTable, element);\n",
              "          const docLink = document.createElement('div');\n",
              "          docLink.innerHTML = docLinkHtml;\n",
              "          element.appendChild(docLink);\n",
              "        }\n",
              "      </script>\n",
              "    </div>\n",
              "  </div>\n",
              "  "
            ]
          },
          "metadata": {},
          "execution_count": 12
        }
      ]
    },
    {
      "cell_type": "markdown",
      "source": [
        "## 유형별 요일\n",
        "- 401 : 교통사고\n",
        "- 402 : 교통불편\n",
        "- 403 : 교통위반\n",
        "- 404 : 사망/대형사고\n",
        "- 405 : 인피도주\n",
        "- 406 : 음주운전"
      ],
      "metadata": {
        "id": "HT7zFI4poNg8"
      }
    },
    {
      "cell_type": "code",
      "source": [
        "sns.countplot(x = 'EVT_CL_CD', data = data, hue=\"WEEK_DAY\")\n",
        "plt.title('유형 별 요일 사고 발생 건수')\n",
        "plt.xlabel('유형')\n",
        "plt.legend(loc = 2, bbox_to_anchor = (1,1))\n",
        "plt.show()"
      ],
      "metadata": {
        "colab": {
          "base_uri": "https://localhost:8080/",
          "height": 301
        },
        "id": "2g5yL_leoPab",
        "outputId": "017974e5-1076-42a4-be79-5fa51c21b765"
      },
      "execution_count": null,
      "outputs": [
        {
          "output_type": "display_data",
          "data": {
            "text/plain": [
              "<Figure size 432x288 with 1 Axes>"
            ],
            "image/png": "[encoded data removed]"
          },
          "metadata": {}
        }
      ]
    },
    {
      "cell_type": "code",
      "source": [
        "pd.crosstab(data[\"WEEK_DAY\"],data[\"EVT_CL_CD\"])"
      ],
      "metadata": {
        "colab": {
          "base_uri": "https://localhost:8080/",
          "height": 300
        },
        "id": "HiYRFcTgomgY",
        "outputId": "3d5acd30-ec2a-4965-a831-0fa6a5abef45"
      },
      "execution_count": null,
      "outputs": [
        {
          "output_type": "execute_result",
          "data": {
            "text/plain": [
              "EVT_CL_CD    401    402   403  404  405    406\n",
              "WEEK_DAY                                      \n",
              "FRI        38993   8628  5262    3    7   9930\n",
              "MON        37422   7386  4024    5    5   7381\n",
              "SAT        35283  10034  5837    4    4  12172\n",
              "SUN        28458   6528  4631    4    5  11169\n",
              "THU        36309   8010  4665    0    7   8442\n",
              "TUE        36467   7649  4219    3    7   7857\n",
              "WED        36304   7782  4480    1   11   8127"
            ],
            "text/html": [
              "\n",
              "  <div id=\"df-8f8df364-b027-44e0-9169-8a00976a794b\">\n",
              "    <div class=\"colab-df-container\">\n",
              "      <div>\n",
              "<style scoped>\n",
              "    .dataframe tbody tr th:only-of-type {\n",
              "        vertical-align: middle;\n",
              "    }\n",
              "\n",
              "    .dataframe tbody tr th {\n",
              "        vertical-align: top;\n",
              "    }\n",
              "\n",
              "    .dataframe thead th {\n",
              "        text-align: right;\n",
              "    }\n",
              "</style>\n",
              "<table border=\"1\" class=\"dataframe\">\n",
              "  <thead>\n",
              "    <tr style=\"text-align: right;\">\n",
              "      <th>EVT_CL_CD</th>\n",
              "      <th>401</th>\n",
              "      <th>402</th>\n",
              "      <th>403</th>\n",
              "      <th>404</th>\n",
              "      <th>405</th>\n",
              "      <th>406</th>\n",
              "    </tr>\n",
              "    <tr>\n",
              "      <th>WEEK_DAY</th>\n",
              "      <th></th>\n",
              "      <th></th>\n",
              "      <th></th>\n",
              "      <th></th>\n",
              "      <th></th>\n",
              "      <th></th>\n",
              "    </tr>\n",
              "  </thead>\n",
              "  <tbody>\n",
              "    <tr>\n",
              "      <th>FRI</th>\n",
              "      <td>38993</td>\n",
              "      <td>8628</td>\n",
              "      <td>5262</td>\n",
              "      <td>3</td>\n",
              "      <td>7</td>\n",
              "      <td>9930</td>\n",
              "    </tr>\n",
              "    <tr>\n",
              "      <th>MON</th>\n",
              "      <td>37422</td>\n",
              "      <td>7386</td>\n",
              "      <td>4024</td>\n",
              "      <td>5</td>\n",
              "      <td>5</td>\n",
              "      <td>7381</td>\n",
              "    </tr>\n",
              "    <tr>\n",
              "      <th>SAT</th>\n",
              "      <td>35283</td>\n",
              "      <td>10034</td>\n",
              "      <td>5837</td>\n",
              "      <td>4</td>\n",
              "      <td>4</td>\n",
              "      <td>12172</td>\n",
              "    </tr>\n",
              "    <tr>\n",
              "      <th>SUN</th>\n",
              "      <td>28458</td>\n",
              "      <td>6528</td>\n",
              "      <td>4631</td>\n",
              "      <td>4</td>\n",
              "      <td>5</td>\n",
              "      <td>11169</td>\n",
              "    </tr>\n",
              "    <tr>\n",
              "      <th>THU</th>\n",
              "      <td>36309</td>\n",
              "      <td>8010</td>\n",
              "      <td>4665</td>\n",
              "      <td>0</td>\n",
              "      <td>7</td>\n",
              "      <td>8442</td>\n",
              "    </tr>\n",
              "    <tr>\n",
              "      <th>TUE</th>\n",
              "      <td>36467</td>\n",
              "      <td>7649</td>\n",
              "      <td>4219</td>\n",
              "      <td>3</td>\n",
              "      <td>7</td>\n",
              "      <td>7857</td>\n",
              "    </tr>\n",
              "    <tr>\n",
              "      <th>WED</th>\n",
              "      <td>36304</td>\n",
              "      <td>7782</td>\n",
              "      <td>4480</td>\n",
              "      <td>1</td>\n",
              "      <td>11</td>\n",
              "      <td>8127</td>\n",
              "    </tr>\n",
              "  </tbody>\n",
              "</table>\n",
              "</div>\n",
              "      <button class=\"colab-df-convert\" onclick=\"convertToInteractive('df-8f8df364-b027-44e0-9169-8a00976a794b')\"\n",
              "              title=\"Convert this dataframe to an interactive table.\"\n",
              "              style=\"display:none;\">\n",
              "        \n",
              "  <svg xmlns=\"http://www.w3.org/2000/svg\" height=\"24px\"viewBox=\"0 0 24 24\"\n",
              "       width=\"24px\">\n",
              "    <path d=\"M0 0h24v24H0V0z\" fill=\"none\"/>\n",
              "    <path d=\"M18.56 5.44l.94 2.06.94-2.06 2.06-.94-2.06-.94-.94-2.06-.94 2.06-2.06.94zm-11 1L8.5 8.5l.94-2.06 2.06-.94-2.06-.94L8.5 2.5l-.94 2.06-2.06.94zm10 10l.94 2.06.94-2.06 2.06-.94-2.06-.94-.94-2.06-.94 2.06-2.06.94z\"/><path d=\"M17.41 7.96l-1.37-1.37c-.4-.4-.92-.59-1.43-.59-.52 0-1.04.2-1.43.59L10.3 9.45l-7.72 7.72c-.78.78-.78 2.05 0 2.83L4 21.41c.39.39.9.59 1.41.59.51 0 1.02-.2 1.41-.59l7.78-7.78 2.81-2.81c.8-.78.8-2.07 0-2.86zM5.41 20L4 18.59l7.72-7.72 1.47 1.35L5.41 20z\"/>\n",
              "  </svg>\n",
              "      </button>\n",
              "      \n",
              "  <style>\n",
              "    .colab-df-container {\n",
              "      display:flex;\n",
              "      flex-wrap:wrap;\n",
              "      gap: 12px;\n",
              "    }\n",
              "\n",
              "    .colab-df-convert {\n",
              "      background-color: #E8F0FE;\n",
              "      border: none;\n",
              "      border-radius: 50%;\n",
              "      cursor: pointer;\n",
              "      display: none;\n",
              "      fill: #1967D2;\n",
              "      height: 32px;\n",
              "      padding: 0 0 0 0;\n",
              "      width: 32px;\n",
              "    }\n",
              "\n",
              "    .colab-df-convert:hover {\n",
              "      background-color: #E2EBFA;\n",
              "      box-shadow: 0px 1px 2px rgba(60, 64, 67, 0.3), 0px 1px 3px 1px rgba(60, 64, 67, 0.15);\n",
              "      fill: #174EA6;\n",
              "    }\n",
              "\n",
              "    [theme=dark] .colab-df-convert {\n",
              "      background-color: #3B4455;\n",
              "      fill: #D2E3FC;\n",
              "    }\n",
              "\n",
              "    [theme=dark] .colab-df-convert:hover {\n",
              "      background-color: #434B5C;\n",
              "      box-shadow: 0px 1px 3px 1px rgba(0, 0, 0, 0.15);\n",
              "      filter: drop-shadow(0px 1px 2px rgba(0, 0, 0, 0.3));\n",
              "      fill: #FFFFFF;\n",
              "    }\n",
              "  </style>\n",
              "\n",
              "      <script>\n",
              "        const buttonEl =\n",
              "          document.querySelector('#df-8f8df364-b027-44e0-9169-8a00976a794b button.colab-df-convert');\n",
              "        buttonEl.style.display =\n",
              "          google.colab.kernel.accessAllowed ? 'block' : 'none';\n",
              "\n",
              "        async function convertToInteractive(key) {\n",
              "          const element = document.querySelector('#df-8f8df364-b027-44e0-9169-8a00976a794b');\n",
              "          const dataTable =\n",
              "            await google.colab.kernel.invokeFunction('convertToInteractive',\n",
              "                                                     [key], {});\n",
              "          if (!dataTable) return;\n",
              "\n",
              "          const docLinkHtml = 'Like what you see? Visit the ' +\n",
              "            '<a target=\"_blank\" href=https://colab.research.google.com/notebooks/data_table.ipynb>data table notebook</a>'\n",
              "            + ' to learn more about interactive tables.';\n",
              "          element.innerHTML = '';\n",
              "          dataTable['output_type'] = 'display_data';\n",
              "          await google.colab.output.renderOutput(dataTable, element);\n",
              "          const docLink = document.createElement('div');\n",
              "          docLink.innerHTML = docLinkHtml;\n",
              "          element.appendChild(docLink);\n",
              "        }\n",
              "      </script>\n",
              "    </div>\n",
              "  </div>\n",
              "  "
            ]
          },
          "metadata": {},
          "execution_count": 6
        }
      ]
    }
  ]
}